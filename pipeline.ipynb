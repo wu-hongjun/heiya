{
 "cells": [
  {
   "attachments": {},
   "cell_type": "markdown",
   "metadata": {},
   "source": [
    "# Photo + Video Encoding Pipeline\n",
    "\n",
    "## Instructions\n",
    "\n",
    "* Step 1: Run \"pip install heiya\" from Terminal (If you have not already done so).\n",
    "* Step 2: Copy the folder directory where all the JPGs are stored.\n",
    "    * Windows: File Explorer -> Go to your target folder -> Single Click address bar -> Copy the file path in address bar.\n",
    "    * macOS: Finder -> Go to your target folder -> Hold Alt (File path should apper in bottom left) -> Right click on folder and copy file path.\n",
    "* Step 3: Run the cell and wait for it to finish, it will print out progress below."
   ]
  },
  {
   "cell_type": "code",
   "execution_count": null,
   "metadata": {},
   "outputs": [],
   "source": [
    "\"\"\"\n",
    "JPG to HEIF/AVIF\n",
    "Convert JPG shoot by camera to High Efficiency Images with metadata to import to iCloud photo library.\n",
    "\"\"\"\n",
    "\n",
    "import heiya\n",
    "import pyperclip as clip\n",
    "\n",
    "# Custom file path override, usually just leave it blank if you use pyperclip\n",
    "source_dir = \"\"\n",
    "\n",
    "# Get the image location directly from the clipboard\n",
    "if source_dir == \"\":\n",
    "    source_dir = clip.paste()\n",
    "    \n",
    "# This will convert all the JPG in source_dir to HEI.\n",
    "# source_format = 0 -> JPG. (You don't need to change this for most of the time, you can also set to 1 for PNG.)\n",
    "# target_format = 0 -> AVIF (For smaller file size but less compatible, requires iOS 16/macOS Ventura or higher).\n",
    "# target_format = 1 -> HEIF (For best compatibility but slightly larger file size, requires additional extension to open on Windows).\n",
    "heiya.to_hei.convert_image_in_dir_to_hei(source_dir, source_format=0, target_format=0)"
   ]
  },
  {
   "cell_type": "code",
   "execution_count": null,
   "metadata": {},
   "outputs": [],
   "source": [
    "\"\"\"\n",
    "MP4 (H264) to MP4 (H265)\n",
    "Convert MP4/MKV (H264) to MP4(H265) using libx265 Software Encoding.\n",
    "\"\"\"\n",
    "\n",
    "import heiya\n",
    "import pyperclip as clip\n",
    "\n",
    "# Custom file path override, usually just leave it blank if you use pyperclip\n",
    "source_dir = \"\"\n",
    "\n",
    "# Get the image location directly from the clipboard\n",
    "if source_dir == \"\":\n",
    "    source_dir = clip.paste()\n",
    "    \n",
    "# This will convert all the MP4/MKV in source_dir to .MP4 using H265 codec.\n",
    "# source_format = 0 -> MP4. (You don't need to change this for most of the time, you can also set to 1 for MKV.)\n",
    "heiya.to_hei.convert_video_in_dir_to_h265(source_dir, source_format=0, postpend=\"_h265\")"
   ]
  },
  {
   "attachments": {},
   "cell_type": "markdown",
   "metadata": {},
   "source": [
    "## Photo + Video Processing Pipeline"
   ]
  },
  {
   "cell_type": "code",
   "execution_count": null,
   "metadata": {},
   "outputs": [],
   "source": [
    "\"\"\"\n",
    "Photo + Video Pipeline\n",
    "\"\"\"\n",
    "\n",
    "import heiya\n",
    "import pyperclip as clip\n",
    "\n",
    "# Custom file path override, usually just leave it blank if you use pyperclip\n",
    "source_dir = \"\"\n",
    "\n",
    "# Get the image location directly from the clipboard\n",
    "if source_dir == \"\":\n",
    "    source_dir = clip.paste()\n",
    "\n",
    "# This will convert all the JPG in source_dir to HEI.\n",
    "# source_format = 0 -> JPG. (You don't need to change this for most of the time, you can also set to 1 for PNG.)\n",
    "# target_format = 0 -> AVIF (For smaller file size but less compatible, requires iOS 16/macOS Ventura or higher).\n",
    "# target_format = 1 -> HEIF (For best compatibility but slightly larger file size, requires additional extension to open on Windows).\n",
    "heiya.to_hei.convert_image_in_dir_to_hei(source_dir, source_format=0, target_format=0)\n",
    "\n",
    "# This will convert all the MP4/MKV in source_dir to .MP4 using H265 codec.\n",
    "# source_format = 0 -> MP4. (You don't need to change this for most of the time, you can also set to 1 for MKV.)\n",
    "heiya.to_hei.convert_video_in_dir_to_h265(source_dir, source_format=0, postpend=\"_h265\")"
   ]
  },
  {
   "cell_type": "code",
   "execution_count": null,
   "metadata": {},
   "outputs": [],
   "source": [
    "\"\"\"\n",
    "MP4 (H264) to MP4 (H265)\n",
    "Convert MP4/MKV (H264) to MP4(H265) using libx265 Software Encoding.\n",
    "\"\"\"\n",
    "\n",
    "from PIL import Image\n",
    "import piexif\n",
    "import pillow_heif\n",
    "\n",
    "import heiya.extensions as extensions\n",
    "import heiya.tools as tools\n",
    "\n",
    "import os\n",
    "import sys\n",
    "import logging\n",
    "from os import listdir\n",
    "from os.path import dirname, basename\n",
    "import heiya\n",
    "import pyperclip as clip\n",
    "\n",
    "# Custom file path override, usually just leave it blank if you use pyperclip\n",
    "source_dir = \"//Users/hongjunwu/Downloads/videos/untitled folder/IMG_5426.MOV\"\n",
    "\n",
    "# Get the image location directly from the clipboard\n",
    "if source_dir == \"\":\n",
    "    source_dir = clip.paste()\n",
    "\n",
    "def video_to_h265(source_video, output=None, postpend=\"_h265\", output_extension = \".mp4\", subtitle=None):\n",
    "    \"\"\"\n",
    "    Experimental feature.\n",
    "    \"\"\"\n",
    "    # Separate a full file path into directory, file name, and extension\n",
    "    directory = dirname(source_video)\n",
    "    file_name  = basename(source_video).split(\".\")[0] \n",
    "    extension = basename(source_video).split(\".\")[-1]\n",
    "\n",
    "    # Register the pillow HEI opener\n",
    "    if \".\" + extension not in extensions.EXT_H264 and extension not in extensions.EXT_H265:\n",
    "        raise ValueError(extension + \"Not a valid source video format.\")\n",
    "\n",
    "    if not output:\n",
    "        output = os.path.join(directory, file_name + postpend + output_extension)\n",
    "\n",
    "    logging.info(\"Transcoding {0} to {1}\".format(source_video, output))\n",
    "\n",
    "    if subtitle:\n",
    "        subtitle_cmd = \"-vf subtitle=\\\"\" + subtitle + \"\\\"\"\n",
    "    else:\n",
    "        subtitle_cmd = \"\"\n",
    "        \n",
    "    command = \"ffmpeg -i \\\"{0}\\\" -movflags use_metadata_tags -c:v libx265 {1} -c:a copy \\\"{2}\\\"\".format(source_video, subtitle_cmd, output)\n",
    "\n",
    "    logging.info(\"Command: \", command)\n",
    "\n",
    "    return output, os.system(command)\n",
    "    \n",
    "# This will convert all the MP4/MKV in source_dir to .MP4 using H265 codec.\n",
    "# source_format = 0 -> MP4. (You don't need to change this for most of the time, you can also set to 1 for MKV.)\n",
    "video_to_h265(source_dir)"
   ]
  },
  {
   "cell_type": "code",
   "execution_count": null,
   "metadata": {},
   "outputs": [],
   "source": []
  }
 ],
 "metadata": {
  "kernelspec": {
   "display_name": "Python 3.8.15 ('base')",
   "language": "python",
   "name": "python3"
  },
  "language_info": {
   "codemirror_mode": {
    "name": "ipython",
    "version": 3
   },
   "file_extension": ".py",
   "mimetype": "text/x-python",
   "name": "python",
   "nbconvert_exporter": "python",
   "pygments_lexer": "ipython3",
   "version": "3.8.15"
  },
  "orig_nbformat": 4,
  "vscode": {
   "interpreter": {
    "hash": "ccfaef849455cb82dfcf38b07a416fc7e0fa5490bd7d0cd7d98b2a6b1749e9b9"
   }
  }
 },
 "nbformat": 4,
 "nbformat_minor": 2
}
