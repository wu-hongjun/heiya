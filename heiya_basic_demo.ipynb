{
 "cells": [
  {
   "cell_type": "markdown",
   "id": "1115de91",
   "metadata": {},
   "source": [
    "# Heiya Basic Demo\n",
    "#### Hongjun Wu\n",
    "\n",
    "* Pretty much what I do every time I come back from a photo shoot.\n",
    "* I just copy the path of the folder that contain JPGs into the clipboard, and this cell will simply help me turn them into AVIFs.\n",
    "* If you don't need all the other fancy features, here it is.\n",
    "* Just make sure you `pip install heiya` and `pip install pyperclip` for this to work.\n"
   ]
  },
  {
   "cell_type": "code",
   "execution_count": null,
   "id": "34ce7a1d",
   "metadata": {},
   "outputs": [],
   "source": [
    "# JPG to AVIF/HEIF\n",
    "# Convert JPG shoot by camera to .AVIF with metadata to save in iCloud photo library.\n",
    "\n",
    "import heiya\n",
    "import pyperclip as clip\n",
    "\n",
    "# Custom file path override, usually just leave it blank if you use pyperclip\n",
    "source_dir = \"\"\n",
    "\n",
    "# Get the image location directly from the clipboard\n",
    "if source_dir == \"\":\n",
    "    source_dir = clip.paste()\n",
    "    \n",
    "# This will convert all the JPG in source_dir to AVIF.\n",
    "heiya.to_hei.convert_image_in_dir_to_hei(source_dir, source_format=0, target_format=0)  # For HEIF, change target_format to 1."
   ]
  },
  {
   "cell_type": "code",
   "execution_count": null,
   "id": "31ef67b1",
   "metadata": {},
   "outputs": [],
   "source": [
    "# JPG/PNG/TIF to WEBP\n",
    "# Convert images to storage efficient .WEBP to serve on the website.\n",
    "\n",
    "import heiya\n",
    "import pyperclip as clip\n",
    "\n",
    "# Custom file path override, usually just leave it blank if you use pyperclip\n",
    "source_dir = \"\"\n",
    "\n",
    "# Get the image location directly from the clipboard\n",
    "if source_dir == \"\":\n",
    "    source_dir = clip.paste()\n",
    "\n",
    "depth = 0\n",
    "    \n",
    "# Convert all the images (JPG, PNG, TIF) in source_dir to WEBP.\n",
    "heiya.convert.convert_all_img_to_webp_by_depth(source_dir, depth)\n",
    "\n",
    "# Delete all the source files to maximize server efficiency.\n",
    "heiya.tools.delete_all_img_by_depth(source_dir, depth)"
   ]
  },
  {
   "cell_type": "code",
   "execution_count": null,
   "id": "b258fd90",
   "metadata": {},
   "outputs": [],
   "source": []
  }
 ],
 "metadata": {
  "kernelspec": {
   "display_name": "Python 3.8.13 64-bit ('anaconda3')",
   "language": "python",
   "name": "python3"
  },
  "language_info": {
   "codemirror_mode": {
    "name": "ipython",
    "version": 3
   },
   "file_extension": ".py",
   "mimetype": "text/x-python",
   "name": "python",
   "nbconvert_exporter": "python",
   "pygments_lexer": "ipython3",
   "version": "3.8.13"
  },
  "vscode": {
   "interpreter": {
    "hash": "ccfaef849455cb82dfcf38b07a416fc7e0fa5490bd7d0cd7d98b2a6b1749e9b9"
   }
  }
 },
 "nbformat": 4,
 "nbformat_minor": 5
}
