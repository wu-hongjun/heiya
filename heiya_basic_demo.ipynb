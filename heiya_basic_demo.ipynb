{
 "cells": [
  {
   "cell_type": "markdown",
   "id": "1115de91",
   "metadata": {},
   "source": [
    "# Heiya Basic Demo\n",
    "#### Hongjun Wu\n",
    "\n",
    "* Pretty much what I do every time I come back from a photo shoot.\n",
    "* I just copy the path of the folder that contain JPGs into the clipboard, and this cell will simply help me turn them into AVIFs.\n",
    "* If you don't need all the other fancy features, here it is.\n",
    "* Just make sure you `pip install heiya` and `pip install pyperclip` for this to work.\n"
   ]
  },
  {
   "cell_type": "code",
   "execution_count": null,
   "id": "34ce7a1d",
   "metadata": {},
   "outputs": [],
   "source": [
    "# JPG to AVIF/HEIF\n",
    "# Convert JPG shoot by camera to .AVIF with metadata to save in iCloud photo library.\n",
    "\n",
    "import heiya\n",
    "import pyperclip as clip\n",
    "\n",
    "# Custom file path override, usually just leave it blank if you use pyperclip\n",
    "source_dir = \"\"\n",
    "\n",
    "# Get the image location directly from the clipboard\n",
    "if source_dir == \"\":\n",
    "    source_dir = clip.paste()\n",
    "    \n",
    "# This will convert all the JPG in source_dir to AVIF.\n",
    "heiya.to_hei.convert_image_in_dir_to_hei(source_dir, source_format=0, target_format=0)  # For HEIF, change target_format to 1."
   ]
  },
  {
   "cell_type": "code",
   "execution_count": null,
   "id": "31ef67b1",
   "metadata": {},
   "outputs": [],
   "source": [
    "# JPG/PNG/TIF to WEBP\n",
    "# Convert images to storage efficient .WEBP to serve on the website.\n",
    "\n",
    "import heiya\n",
    "import pyperclip as clip\n",
    "\n",
    "# Custom file path override, usually just leave it blank if you use pyperclip\n",
    "source_dir = \"\"\n",
    "\n",
    "# Get the image location directly from the clipboard\n",
    "if source_dir == \"\":\n",
    "    source_dir = clip.paste()\n",
    "\n",
    "# See https://github.com/wu-hongjun/heiya/blob/main/heiya_full_demo.ipynb 1.4 for the definition of depth here.\n",
    "depth = 0\n",
    "    \n",
    "# Convert all the images (JPG, PNG, TIF) in source_dir to WEBP.\n",
    "heiya.convert.convert_all_img_to_webp_by_depth(source_dir, depth)\n",
    "\n",
    "# Delete all the source files to maximize server efficiency.\n",
    "heiya.tools.delete_all_img_by_depth(source_dir, depth)"
   ]
  },
  {
   "cell_type": "code",
   "execution_count": 6,
   "id": "b258fd90",
   "metadata": {},
   "outputs": [
    {
     "name": "stdout",
     "output_type": "stream",
     "text": [
      "Error: can only concatenate str (not \"ValueError\") to str\n",
      "Error: can only concatenate str (not \"ValueError\") to str\n",
      "Error: can only concatenate str (not \"ValueError\") to str\n",
      "Error: can only concatenate str (not \"ValueError\") to str\n",
      "Error: can only concatenate str (not \"ValueError\") to str\n",
      "Error: can only concatenate str (not \"ValueError\") to str\n",
      "Error: can only concatenate str (not \"ValueError\") to str\n",
      "Error: can only concatenate str (not \"ValueError\") to str\n",
      "Error: can only concatenate str (not \"ValueError\") to str\n",
      "Error: can only concatenate str (not \"ValueError\") to str\n",
      "Error: can only concatenate str (not \"ValueError\") to str\n",
      "Error: can only concatenate str (not \"ValueError\") to str\n",
      "Error: can only concatenate str (not \"ValueError\") to str\n",
      "Error: can only concatenate str (not \"ValueError\") to str\n",
      "Error: can only concatenate str (not \"ValueError\") to str\n",
      "Error: can only concatenate str (not \"ValueError\") to str\n",
      "Error: can only concatenate str (not \"ValueError\") to str\n",
      "Error: can only concatenate str (not \"ValueError\") to str\n",
      "Error: can only concatenate str (not \"ValueError\") to str\n",
      "Error: can only concatenate str (not \"ValueError\") to str\n",
      "Error: can only concatenate str (not \"ValueError\") to str\n",
      "Error: can only concatenate str (not \"ValueError\") to str\n",
      "Error: can only concatenate str (not \"ValueError\") to str\n",
      "Error: can only concatenate str (not \"ValueError\") to str\n",
      "Error: can only concatenate str (not \"ValueError\") to str\n"
     ]
    }
   ],
   "source": [
    "# JPG/PNG/TIF to WEBP\n",
    "# Convert images to storage efficient .WEBP to serve on the website.\n",
    "\n",
    "import heiya\n",
    "import pyperclip as clip\n",
    "\n",
    "# Custom file path override, usually just leave it blank if you use pyperclip\n",
    "source_dir = \"\"\n",
    "\n",
    "# Get the image location directly from the clipboard\n",
    "if source_dir == \"\":\n",
    "    source_dir = clip.paste()\n",
    "\n",
    "# See https://github.com/wu-hongjun/heiya/blob/main/heiya_full_demo.ipynb 1.4 for the definition of depth here.\n",
    "depth = 1\n",
    "    \n",
    "# Convert all the images (JPG, PNG, TIF) in source_dir to WEBP.\n",
    "heiya.convert.convert_all_video_to_hevc_by_depth(source_dir, depth)\n"
   ]
  },
  {
   "cell_type": "code",
   "execution_count": 1,
   "id": "6ec0dd91",
   "metadata": {},
   "outputs": [
    {
     "name": "stderr",
     "output_type": "stream",
     "text": [
      "ffmpeg version 5.1.2 Copyright (c) 2000-2022 the FFmpeg developers\n",
      "  built with Apple clang version 14.0.0 (clang-1400.0.29.102)\n",
      "  configuration: --prefix=/opt/homebrew/Cellar/ffmpeg/5.1.2 --enable-shared --enable-pthreads --enable-version3 --cc=clang --host-cflags= --host-ldflags= --enable-ffplay --enable-gnutls --enable-gpl --enable-libaom --enable-libbluray --enable-libdav1d --enable-libmp3lame --enable-libopus --enable-librav1e --enable-librist --enable-librubberband --enable-libsnappy --enable-libsrt --enable-libtesseract --enable-libtheora --enable-libvidstab --enable-libvmaf --enable-libvorbis --enable-libvpx --enable-libwebp --enable-libx264 --enable-libx265 --enable-libxml2 --enable-libxvid --enable-lzma --enable-libfontconfig --enable-libfreetype --enable-frei0r --enable-libass --enable-libopencore-amrnb --enable-libopencore-amrwb --enable-libopenjpeg --enable-libspeex --enable-libsoxr --enable-libzmq --enable-libzimg --disable-libjack --disable-indev=jack --enable-videotoolbox --enable-neon\n",
      "  libavutil      57. 28.100 / 57. 28.100\n",
      "  libavcodec     59. 37.100 / 59. 37.100\n",
      "  libavformat    59. 27.100 / 59. 27.100\n",
      "  libavdevice    59.  7.100 / 59.  7.100\n",
      "  libavfilter     8. 44.100 /  8. 44.100\n",
      "  libswscale      6.  7.100 /  6.  7.100\n",
      "  libswresample   4.  7.100 /  4.  7.100\n",
      "  libpostproc    56.  6.100 / 56.  6.100\n",
      "Input #0, matroska,webm, from '/Volumes/Library/Videos/Masterclass/002--_SteveMrtinTeachesComedy喜剧（有字幕）/SteveMrtinTeachesComedy/01-Introduction/01-Introduction.mkv':\n",
      "  Metadata:\n",
      "    encoder         : libebml v1.3.4 + libmatroska v1.4.5\n",
      "    creation_time   : 2017-05-01T18:14:16.000000Z\n",
      "  Duration: 00:02:55.24, start: 0.000000, bitrate: 2528 kb/s\n",
      "  Stream #0:0: Video: h264 (Constrained Baseline), yuv420p(progressive), 1920x1080 [SAR 1:1 DAR 16:9], 23.98 fps, 23.98 tbr, 1k tbn (default)\n",
      "    Metadata:\n",
      "      BPS             : 2398612\n",
      "      BPS-eng         : 2398612\n",
      "      DURATION        : 00:02:55.175000000\n",
      "      DURATION-eng    : 00:02:55.175000000\n",
      "      NUMBER_OF_FRAMES: 4200\n",
      "      NUMBER_OF_FRAMES-eng: 4200\n",
      "      NUMBER_OF_BYTES : 52522126\n",
      "      NUMBER_OF_BYTES-eng: 52522126\n",
      "      _STATISTICS_WRITING_APP: mkvmerge v9.5.0 ('Quiet Fire') 64bit\n",
      "      _STATISTICS_WRITING_APP-eng: mkvmerge v9.5.0 ('Quiet Fire') 64bit\n",
      "      _STATISTICS_WRITING_DATE_UTC: 2017-05-01 18:14:16\n",
      "      _STATISTICS_WRITING_DATE_UTC-eng: 2017-05-01 18:14:16\n",
      "      _STATISTICS_TAGS: BPS DURATION NUMBER_OF_FRAMES NUMBER_OF_BYTES\n",
      "      _STATISTICS_TAGS-eng: BPS DURATION NUMBER_OF_FRAMES NUMBER_OF_BYTES\n",
      "  Stream #0:1: Audio: aac (LC), 44100 Hz, stereo, fltp (default)\n",
      "    Metadata:\n",
      "      BPS             : 128004\n",
      "      BPS-eng         : 128004\n",
      "      DURATION        : 00:02:55.241000000\n",
      "      DURATION-eng    : 00:02:55.241000000\n",
      "      NUMBER_OF_FRAMES: 7547\n",
      "      NUMBER_OF_FRAMES-eng: 7547\n",
      "      NUMBER_OF_BYTES : 2803965\n",
      "      NUMBER_OF_BYTES-eng: 2803965\n",
      "      _STATISTICS_WRITING_APP: mkvmerge v9.5.0 ('Quiet Fire') 64bit\n",
      "      _STATISTICS_WRITING_APP-eng: mkvmerge v9.5.0 ('Quiet Fire') 64bit\n",
      "      _STATISTICS_WRITING_DATE_UTC: 2017-05-01 18:14:16\n",
      "      _STATISTICS_WRITING_DATE_UTC-eng: 2017-05-01 18:14:16\n",
      "      _STATISTICS_TAGS: BPS DURATION NUMBER_OF_FRAMES NUMBER_OF_BYTES\n",
      "      _STATISTICS_TAGS-eng: BPS DURATION NUMBER_OF_FRAMES NUMBER_OF_BYTES\n",
      "Stream mapping:\n",
      "  Stream #0:0 -> #0:0 (h264 (native) -> hevc (hevc_videotoolbox))\n",
      "  Stream #0:1 -> #0:1 (copy)\n",
      "Press [q] to stop, [?] for help\n",
      "Output #0, mp4, to '/Volumes/Library/Videos/Masterclass/002--_SteveMrtinTeachesComedy喜剧（有字幕）/SteveMrtinTeachesComedy/01-Introduction/01-Introduction.mp4':\n",
      "  Metadata:\n",
      "    encoder         : Lavf59.27.100\n",
      "  Stream #0:0: Video: hevc (hvc1 / 0x31637668), yuv420p(progressive), 1920x1080 [SAR 1:1 DAR 16:9], q=2-31, 200 kb/s, 23.98 fps, 24k tbn (default)\n",
      "    Metadata:\n",
      "      BPS             : 2398612\n",
      "      BPS-eng         : 2398612\n",
      "      DURATION        : 00:02:55.175000000\n",
      "      DURATION-eng    : 00:02:55.175000000\n",
      "      NUMBER_OF_FRAMES: 4200\n",
      "      NUMBER_OF_FRAMES-eng: 4200\n",
      "      NUMBER_OF_BYTES : 52522126\n",
      "      NUMBER_OF_BYTES-eng: 52522126\n",
      "      _STATISTICS_WRITING_APP: mkvmerge v9.5.0 ('Quiet Fire') 64bit\n",
      "      _STATISTICS_WRITING_APP-eng: mkvmerge v9.5.0 ('Quiet Fire') 64bit\n",
      "      _STATISTICS_WRITING_DATE_UTC: 2017-05-01 18:14:16\n",
      "      _STATISTICS_WRITING_DATE_UTC-eng: 2017-05-01 18:14:16\n",
      "      _STATISTICS_TAGS: BPS DURATION NUMBER_OF_FRAMES NUMBER_OF_BYTES\n",
      "      _STATISTICS_TAGS-eng: BPS DURATION NUMBER_OF_FRAMES NUMBER_OF_BYTES\n",
      "      encoder         : Lavc59.37.100 hevc_videotoolbox\n",
      "  Stream #0:1: Audio: aac (LC) (mp4a / 0x6134706D), 44100 Hz, stereo, fltp (default)\n",
      "    Metadata:\n",
      "      BPS             : 128004\n",
      "      BPS-eng         : 128004\n",
      "      DURATION        : 00:02:55.241000000\n",
      "      DURATION-eng    : 00:02:55.241000000\n",
      "      NUMBER_OF_FRAMES: 7547\n",
      "      NUMBER_OF_FRAMES-eng: 7547\n",
      "      NUMBER_OF_BYTES : 2803965\n",
      "      NUMBER_OF_BYTES-eng: 2803965\n",
      "      _STATISTICS_WRITING_APP: mkvmerge v9.5.0 ('Quiet Fire') 64bit\n",
      "      _STATISTICS_WRITING_APP-eng: mkvmerge v9.5.0 ('Quiet Fire') 64bit\n",
      "      _STATISTICS_WRITING_DATE_UTC: 2017-05-01 18:14:16\n",
      "      _STATISTICS_WRITING_DATE_UTC-eng: 2017-05-01 18:14:16\n",
      "      _STATISTICS_TAGS: BPS DURATION NUMBER_OF_FRAMES NUMBER_OF_BYTES\n",
      "      _STATISTICS_TAGS-eng: BPS DURATION NUMBER_OF_FRAMES NUMBER_OF_BYTES\n",
      "[hevc_videotoolbox @ 0x136211e60] Color range not set for yuv420p. Using MPEG range.\n",
      "frame= 4200 fps=285 q=-0.0 Lsize=   15591kB time=00:02:55.23 bitrate= 728.9kbits/s speed=11.9x    \n",
      "video:12710kB audio:2738kB subtitle:0kB other streams:0kB global headers:0kB muxing overhead: 0.928905%\n"
     ]
    },
    {
     "data": {
      "text/plain": [
       "0"
      ]
     },
     "execution_count": 1,
     "metadata": {},
     "output_type": "execute_result"
    }
   ],
   "source": [
    "import heiya\n",
    "heiya.to_hei.video_to_h265(\"/Volumes/Library/Videos/Masterclass/002--_SteveMrtinTeachesComedy喜剧（有字幕）/SteveMrtinTeachesComedy/01-Introduction/01-Introduction.mkv\", output=None, postpend=\"\", output_extension = \".mp4\", hevc_toolbox=False)"
   ]
  },
  {
   "cell_type": "code",
   "execution_count": null,
   "id": "44769723",
   "metadata": {},
   "outputs": [],
   "source": []
  }
 ],
 "metadata": {
  "kernelspec": {
   "display_name": "Python 3.8.13 64-bit ('anaconda3')",
   "language": "python",
   "name": "python3"
  },
  "language_info": {
   "codemirror_mode": {
    "name": "ipython",
    "version": 3
   },
   "file_extension": ".py",
   "mimetype": "text/x-python",
   "name": "python",
   "nbconvert_exporter": "python",
   "pygments_lexer": "ipython3",
   "version": "3.8.13"
  },
  "vscode": {
   "interpreter": {
    "hash": "ccfaef849455cb82dfcf38b07a416fc7e0fa5490bd7d0cd7d98b2a6b1749e9b9"
   }
  }
 },
 "nbformat": 4,
 "nbformat_minor": 5
}
