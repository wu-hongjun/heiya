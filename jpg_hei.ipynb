{
 "cells": [
  {
   "cell_type": "code",
   "execution_count": 1,
   "metadata": {},
   "outputs": [
    {
     "name": "stdout",
     "output_type": "stream",
     "text": [
      "JPG -> HEIF 1/24(4%): D:\\DCIM\\208_FUJI/FUJI8016.HEIF\n",
      "JPG -> HEIF 2/24(8%): D:\\DCIM\\208_FUJI/FUJI8017.HEIF\n",
      "JPG -> HEIF 3/24(12%): D:\\DCIM\\208_FUJI/FUJI8018.HEIF\n",
      "JPG -> HEIF 4/24(16%): D:\\DCIM\\208_FUJI/FUJI8019.HEIF\n",
      "JPG -> HEIF 5/24(20%): D:\\DCIM\\208_FUJI/FUJI8020.HEIF\n",
      "JPG -> HEIF 6/24(25%): D:\\DCIM\\208_FUJI/FUJI8021.HEIF\n",
      "JPG -> HEIF 7/24(29%): D:\\DCIM\\208_FUJI/FUJI8022.HEIF\n",
      "JPG -> HEIF 8/24(33%): D:\\DCIM\\208_FUJI/FUJI8023.HEIF\n",
      "JPG -> HEIF 9/24(37%): D:\\DCIM\\208_FUJI/FUJI8024.HEIF\n",
      "JPG -> HEIF 10/24(41%): D:\\DCIM\\208_FUJI/FUJI8025.HEIF\n",
      "JPG -> HEIF 11/24(45%): D:\\DCIM\\208_FUJI/FUJI8026.HEIF\n",
      "JPG -> HEIF 12/24(50%): D:\\DCIM\\208_FUJI/FUJI8028.HEIF\n",
      "JPG -> HEIF 13/24(54%): D:\\DCIM\\208_FUJI/FUJI8029.HEIF\n",
      "JPG -> HEIF 14/24(58%): D:\\DCIM\\208_FUJI/FUJI8030.HEIF\n",
      "JPG -> HEIF 15/24(62%): D:\\DCIM\\208_FUJI/FUJI8031.HEIF\n",
      "JPG -> HEIF 16/24(66%): D:\\DCIM\\208_FUJI/FUJI8032.HEIF\n",
      "JPG -> HEIF 17/24(70%): D:\\DCIM\\208_FUJI/FUJI8035.HEIF\n",
      "JPG -> HEIF 18/24(75%): D:\\DCIM\\208_FUJI/FUJI8034.HEIF\n",
      "JPG -> HEIF 19/24(79%): D:\\DCIM\\208_FUJI/FUJI8036.HEIF\n",
      "JPG -> HEIF 20/24(83%): D:\\DCIM\\208_FUJI/FUJI8037.HEIF\n",
      "JPG -> HEIF 21/24(87%): D:\\DCIM\\208_FUJI/FUJI8038.HEIF\n",
      "JPG -> HEIF 22/24(91%): D:\\DCIM\\208_FUJI/FUJI8040.HEIF\n",
      "JPG -> HEIF 23/24(95%): D:\\DCIM\\208_FUJI/FUJI8041.HEIF\n",
      "JPG -> HEIF 24/24(100%): D:\\DCIM\\208_FUJI/FUJI8042.HEIF\n"
     ]
    }
   ],
   "source": [
    "\"\"\"\n",
    "JPG to HEIF/AVIF\n",
    "Convert JPG shoot by camera to High Efficiency Images with metadata to import to iCloud photo library.\n",
    "\n",
    "How To:\n",
    "Step 1: Run \"pip install heiya\" from Terminal (If you have not already done so).\n",
    "Step 2: Copy the folder directory where all the JPGs are stored.\n",
    "    Windows: File Explorer -> Go to your target folder -> Single Click address bar -> Copy the file path in address bar.\n",
    "    macOS: Finder -> Go to your target folder -> Hold Alt (File path should apper in bottom left) -> Right click on folder and copy file path.\n",
    "Step 3: Run this cell and wait for it to finish, it will print out progress below.\n",
    "\"\"\"\n",
    "\n",
    "import heiya\n",
    "import pyperclip as clip\n",
    "\n",
    "# Custom file path override, usually just leave it blank if you use pyperclip\n",
    "source_dir = \"\"\n",
    "\n",
    "# Get the image location directly from the clipboard\n",
    "if source_dir == \"\":\n",
    "    source_dir = clip.paste()\n",
    "    \n",
    "# This will convert all the JPG in source_dir to HEI.\n",
    "# source_format = 0 -> JPG. (You don't need to change this for most of the time, you can also set to 1 for PNG.)\n",
    "# target_format = 0 -> AVIF (For smaller file size but less compatible, requires iOS 16/macOS Ventura or higher).\n",
    "# target_format = 1 -> HEIF (For best compatibility but slightly larger file size, requires additional extension to open on Windows).\n",
    "heiya.to_hei.convert_image_in_dir_to_hei(source_dir, source_format=0, target_format=1)"
   ]
  },
  {
   "cell_type": "code",
   "execution_count": null,
   "metadata": {},
   "outputs": [],
   "source": []
  }
 ],
 "metadata": {
  "kernelspec": {
   "display_name": "Python 3.10.2 64-bit",
   "language": "python",
   "name": "python3"
  },
  "language_info": {
   "codemirror_mode": {
    "name": "ipython",
    "version": 3
   },
   "file_extension": ".py",
   "mimetype": "text/x-python",
   "name": "python",
   "nbconvert_exporter": "python",
   "pygments_lexer": "ipython3",
   "version": "3.10.2"
  },
  "orig_nbformat": 4,
  "vscode": {
   "interpreter": {
    "hash": "369f2c481f4da34e4445cda3fffd2e751bd1c4d706f27375911949ba6bb62e1c"
   }
  }
 },
 "nbformat": 4,
 "nbformat_minor": 2
}
