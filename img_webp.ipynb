{
 "cells": [
  {
   "cell_type": "code",
   "execution_count": null,
   "metadata": {},
   "outputs": [],
   "source": [
    "# JPG/PNG/TIF to WEBP\n",
    "# Convert images to storage efficient .WEBP to serve on the website.\n",
    "\n",
    "import heiya\n",
    "import pyperclip as clip\n",
    "\n",
    "# Custom file path override, usually just leave it blank if you use pyperclip\n",
    "source_dir = \"\"\n",
    "\n",
    "# Get the image location directly from the clipboard\n",
    "if source_dir == \"\":\n",
    "    source_dir = clip.paste()\n",
    "\n",
    "# See https://github.com/wu-hongjun/heiya/blob/main/heiya_full_demo.ipynb 1.4 for the definition of depth here.\n",
    "depth = 0\n",
    "    \n",
    "# Convert all the images (JPG, PNG, TIF) in source_dir to WEBP.\n",
    "heiya.convert.convert_all_img_to_webp_by_depth(source_dir, depth)\n",
    "\n",
    "# Delete all the source files to maximize server efficiency.\n",
    "# heiya.tools.delete_all_img_by_depth(source_dir, depth)"
   ]
  },
  {
   "cell_type": "code",
   "execution_count": 6,
   "metadata": {},
   "outputs": [
    {
     "name": "stdout",
     "output_type": "stream",
     "text": [
      "Converting C:/Users/hongj/RubymineProjects/me.hongjunwu.com/images/avatar.png to .webp\n"
     ]
    }
   ],
   "source": [
    "import heiya\n",
    "\n",
    "source_image = \"C:/Users/hongj/RubymineProjects/me.hongjunwu.com/images/avatar.png\"\n",
    "heiya.convert.normal_img_convertion(source_image, target_format=3, preserve_original_img=True)"
   ]
  },
  {
   "cell_type": "code",
   "execution_count": 5,
   "metadata": {},
   "outputs": [
    {
     "name": "stdout",
     "output_type": "stream",
     "text": [
      " ffmpeg -i C:\\Baiduyun\\1986_天空之城.mkv -c:v libx265 -preset medium -x265-params crf=28 -c:a aac -strict experimental -b:a 128k C:\\Baiduyun\\1986_天空之城.mp4\n"
     ]
    },
    {
     "data": {
      "text/plain": [
       "1"
      ]
     },
     "execution_count": 5,
     "metadata": {},
     "output_type": "execute_result"
    }
   ],
   "source": [
    "import os\n",
    "cmd = \"ffmpeg -i {0} -c:v libx265 -preset medium -x265-params crf=28 -c:a aac -strict experimental -b:a 128k {1}\".format(\"C:\\\\Baiduyun\\\\1986_天空之城.mkv\", \"C:\\\\Baiduyun\\\\1986_天空之城.mp4\")\n",
    "print(cmd)\n",
    "os.system(cmd)"
   ]
  },
  {
   "cell_type": "code",
   "execution_count": 1,
   "metadata": {},
   "outputs": [
    {
     "name": "stdout",
     "output_type": "stream",
     "text": [
      "Command:  ffmpeg -i \"C:\\Baiduyun\\Animation\\1989 魔女宅急便.mkv\" -c:v libx265  -vtag hvc1 -c:a copy \"C:\\Baiduyun\\Animation\\1989 魔女宅急便_h265.mp4\"\n"
     ]
    },
    {
     "data": {
      "text/plain": [
       "0"
      ]
     },
     "execution_count": 1,
     "metadata": {},
     "output_type": "execute_result"
    }
   ],
   "source": [
    "import heiya\n",
    "source_video = \"C:\\\\Baiduyun\\\\Animation\\\\1989 魔女宅急便.mkv\"\n",
    "heiya.to_hei.video_to_h265(source_video, output=None, postpend=\"_h265\", output_extension = \".mp4\", subtitle=None)"
   ]
  },
  {
   "cell_type": "code",
   "execution_count": 1,
   "metadata": {},
   "outputs": [
    {
     "name": "stdout",
     "output_type": "stream",
     "text": [
      "Beginning video H265 encoding operation in: C:\\Baiduyun\\Animation\n",
      "MKV -> MP4(H265) 1/25(4%): 1979 鲁邦三世：卡里奥斯特罗城.mkv\n"
     ]
    }
   ],
   "source": [
    "\"\"\"\n",
    "MKV to MP4 (H265)\n",
    "Convert MP4/MKV (H264) to MP4(H265) using libx265 Software Encoding.\n",
    "\n",
    "How To:\n",
    "Step 1: Run \"pip install heiya\" from Terminal (If you have not already done so).\n",
    "Step 2: Copy the folder directory where all the JPGs are stored.\n",
    "    Windows: File Explorer -> Go to your target folder -> Single Click address bar -> Copy the file path in address bar.\n",
    "    macOS: Finder -> Go to your target folder -> Hold Alt (File path should apper in bottom left) -> Right click on folder and copy file path.\n",
    "Step 3: Run this cell and wait for it to finish, it will print out progress below.\n",
    "\"\"\"\n",
    "\n",
    "import heiya\n",
    "import pyperclip as clip\n",
    "\n",
    "# Custom file path override, usually just leave it blank if you use pyperclip\n",
    "source_dir = \"C:\\\\Baiduyun\\\\Animation\"\n",
    "\n",
    "# Get the image location directly from the clipboard\n",
    "if source_dir == \"\":\n",
    "    source_dir = clip.paste()\n",
    "    \n",
    "# This will convert all the MP4/MKV in source_dir to MP4 using H265 codec.\n",
    "# source_format = 0 -> MP4. (You don't need to change this for most of the time, you can also set to 1 for MKV.)\n",
    "heiya.to_hei.convert_video_in_dir_to_h265(source_dir, source_format=1, postpend=\"\")"
   ]
  },
  {
   "cell_type": "code",
   "execution_count": null,
   "metadata": {},
   "outputs": [],
   "source": []
  }
 ],
 "metadata": {
  "kernelspec": {
   "display_name": "Python 3",
   "language": "python",
   "name": "python3"
  },
  "language_info": {
   "codemirror_mode": {
    "name": "ipython",
    "version": 3
   },
   "file_extension": ".py",
   "mimetype": "text/x-python",
   "name": "python",
   "nbconvert_exporter": "python",
   "pygments_lexer": "ipython3",
   "version": "3.10.2"
  },
  "orig_nbformat": 4,
  "vscode": {
   "interpreter": {
    "hash": "369f2c481f4da34e4445cda3fffd2e751bd1c4d706f27375911949ba6bb62e1c"
   }
  }
 },
 "nbformat": 4,
 "nbformat_minor": 2
}
