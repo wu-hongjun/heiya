{
 "cells": [
  {
   "cell_type": "code",
   "execution_count": null,
   "metadata": {},
   "outputs": [],
   "source": [
    "# JPG/PNG/TIF to WEBP\n",
    "# Convert images to storage efficient .WEBP to serve on the website.\n",
    "\n",
    "import heiya\n",
    "import pyperclip as clip\n",
    "\n",
    "# Custom file path override, usually just leave it blank if you use pyperclip\n",
    "source_dir = \"\"\n",
    "\n",
    "# Get the image location directly from the clipboard\n",
    "if source_dir == \"\":\n",
    "    source_dir = clip.paste()\n",
    "\n",
    "# See https://github.com/wu-hongjun/heiya/blob/main/heiya_full_demo.ipynb 1.4 for the definition of depth here.\n",
    "depth = 0\n",
    "    \n",
    "# Convert all the images (JPG, PNG, TIF) in source_dir to WEBP.\n",
    "heiya.convert.convert_all_img_to_webp_by_depth(source_dir, depth)\n",
    "\n",
    "# Delete all the source files to maximize server efficiency.\n",
    "# heiya.tools.delete_all_img_by_depth(source_dir, depth)"
   ]
  },
  {
   "cell_type": "code",
   "execution_count": null,
   "metadata": {},
   "outputs": [],
   "source": [
    "import heiya\n",
    "\n",
    "source_image = \"C:/Users/hongj/RubymineProjects/me.hongjunwu.com/images/main_photo.png\"\n",
    "heiya.convert.normal_img_convertion(source_image, target_format=3, preserve_original_img=True)"
   ]
  },
  {
   "cell_type": "code",
   "execution_count": null,
   "metadata": {},
   "outputs": [],
   "source": []
  }
 ],
 "metadata": {
  "kernelspec": {
   "display_name": "Python 3",
   "language": "python",
   "name": "python3"
  },
  "language_info": {
   "codemirror_mode": {
    "name": "ipython",
    "version": 3
   },
   "file_extension": ".py",
   "mimetype": "text/x-python",
   "name": "python",
   "nbconvert_exporter": "python",
   "pygments_lexer": "ipython3",
   "version": "3.10.2"
  },
  "orig_nbformat": 4,
  "vscode": {
   "interpreter": {
    "hash": "369f2c481f4da34e4445cda3fffd2e751bd1c4d706f27375911949ba6bb62e1c"
   }
  }
 },
 "nbformat": 4,
 "nbformat_minor": 2
}
