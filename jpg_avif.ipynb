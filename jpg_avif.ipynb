{
 "cells": [
  {
   "cell_type": "code",
   "execution_count": null,
   "metadata": {},
   "outputs": [],
   "source": [
    "# JPG to AVIF/HEIF\n",
    "# Convert JPG shoot by camera to .AVIF with metadata to import to iCloud photo library.\n",
    "\n",
    "import heiya\n",
    "import pyperclip as clip\n",
    "\n",
    "# Custom file path override, usually just leave it blank if you use pyperclip\n",
    "source_dir = \"\"\n",
    "\n",
    "# Get the image location directly from the clipboard\n",
    "if source_dir == \"\":\n",
    "    source_dir = clip.paste()\n",
    "    \n",
    "# This will convert all the JPG in source_dir to AVIF.\n",
    "heiya.to_hei.convert_image_in_dir_to_hei(source_dir, source_format=0, target_format=0)  # For HEIF, change target_format to 1."
   ]
  },
  {
   "cell_type": "code",
   "execution_count": null,
   "metadata": {},
   "outputs": [],
   "source": [
    "import os\n",
    "dir = \"#\"\n",
    "file = \"01 - Introduction\"\n",
    "input_video = dir + file + \".mp4\"\n",
    "subtitle = dir + file + \".srt\"\n",
    "output_video = dir + file + \"_sub.mp4\"\n",
    "command = \"ffmpeg -i \\\"{0}\\\" -i \\\"{1}\\\" -c copy -c:s mov_text \\\"{2}\\\"\".format(input_video, subtitle, output_video)\n",
    "print(command)\n",
    "os.system(command)"
   ]
  },
  {
   "cell_type": "code",
   "execution_count": null,
   "metadata": {},
   "outputs": [],
   "source": []
  }
 ],
 "metadata": {
  "kernelspec": {
   "display_name": "Python 3.8.13 ('base')",
   "language": "python",
   "name": "python3"
  },
  "language_info": {
   "codemirror_mode": {
    "name": "ipython",
    "version": 3
   },
   "file_extension": ".py",
   "mimetype": "text/x-python",
   "name": "python",
   "nbconvert_exporter": "python",
   "pygments_lexer": "ipython3",
   "version": "3.8.15"
  },
  "orig_nbformat": 4,
  "vscode": {
   "interpreter": {
    "hash": "ccfaef849455cb82dfcf38b07a416fc7e0fa5490bd7d0cd7d98b2a6b1749e9b9"
   }
  }
 },
 "nbformat": 4,
 "nbformat_minor": 2
}
