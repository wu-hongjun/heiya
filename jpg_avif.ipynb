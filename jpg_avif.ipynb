{
 "cells": [
  {
   "cell_type": "code",
   "execution_count": 1,
   "metadata": {},
   "outputs": [
    {
     "name": "stdout",
     "output_type": "stream",
     "text": [
      "JPG -> AVIF 1/48(2%): D:\\DCIM\\207_FUJI/FUJI7853.AVIF\n",
      "JPG -> AVIF 2/48(4%): D:\\DCIM\\207_FUJI/FUJI7854.AVIF\n",
      "JPG -> AVIF 3/48(6%): D:\\DCIM\\207_FUJI/FUJI7855.AVIF\n",
      "JPG -> AVIF 4/48(8%): D:\\DCIM\\207_FUJI/FUJI7856.AVIF\n",
      "JPG -> AVIF 5/48(10%): D:\\DCIM\\207_FUJI/FUJI7857.AVIF\n",
      "JPG -> AVIF 6/48(12%): D:\\DCIM\\207_FUJI/FUJI7861.AVIF\n",
      "JPG -> AVIF 7/48(14%): D:\\DCIM\\207_FUJI/FUJI7874.AVIF\n",
      "JPG -> AVIF 8/48(16%): D:\\DCIM\\207_FUJI/FUJI7891.AVIF\n",
      "JPG -> AVIF 9/48(18%): D:\\DCIM\\207_FUJI/FUJI7892.AVIF\n",
      "JPG -> AVIF 10/48(20%): D:\\DCIM\\207_FUJI/FUJI7893.AVIF\n",
      "JPG -> AVIF 11/48(22%): D:\\DCIM\\207_FUJI/FUJI7894.AVIF\n",
      "JPG -> AVIF 12/48(25%): D:\\DCIM\\207_FUJI/FUJI7897.AVIF\n",
      "JPG -> AVIF 13/48(27%): D:\\DCIM\\207_FUJI/FUJI7898.AVIF\n",
      "JPG -> AVIF 14/48(29%): D:\\DCIM\\207_FUJI/FUJI7905.AVIF\n",
      "JPG -> AVIF 15/48(31%): D:\\DCIM\\207_FUJI/FUJI7900.AVIF\n",
      "JPG -> AVIF 16/48(33%): D:\\DCIM\\207_FUJI/FUJI7901.AVIF\n",
      "JPG -> AVIF 17/48(35%): D:\\DCIM\\207_FUJI/FUJI7903.AVIF\n",
      "JPG -> AVIF 18/48(37%): D:\\DCIM\\207_FUJI/FUJI7904.AVIF\n",
      "JPG -> AVIF 19/48(39%): D:\\DCIM\\207_FUJI/FUJI7906.AVIF\n",
      "JPG -> AVIF 20/48(41%): D:\\DCIM\\207_FUJI/FUJI7907.AVIF\n",
      "JPG -> AVIF 21/48(43%): D:\\DCIM\\207_FUJI/FUJI7908.AVIF\n",
      "JPG -> AVIF 22/48(45%): D:\\DCIM\\207_FUJI/FUJI7909.AVIF\n",
      "JPG -> AVIF 23/48(47%): D:\\DCIM\\207_FUJI/FUJI7910.AVIF\n",
      "JPG -> AVIF 24/48(50%): D:\\DCIM\\207_FUJI/FUJI7911.AVIF\n",
      "JPG -> AVIF 25/48(52%): D:\\DCIM\\207_FUJI/FUJI7912.AVIF\n",
      "JPG -> AVIF 26/48(54%): D:\\DCIM\\207_FUJI/FUJI7913.AVIF\n",
      "JPG -> AVIF 27/48(56%): D:\\DCIM\\207_FUJI/FUJI7914.AVIF\n",
      "JPG -> AVIF 28/48(58%): D:\\DCIM\\207_FUJI/FUJI7920.AVIF\n",
      "JPG -> AVIF 29/48(60%): D:\\DCIM\\207_FUJI/FUJI7917.AVIF\n",
      "JPG -> AVIF 30/48(62%): D:\\DCIM\\207_FUJI/FUJI7918.AVIF\n",
      "JPG -> AVIF 31/48(64%): D:\\DCIM\\207_FUJI/FUJI7919.AVIF\n",
      "JPG -> AVIF 32/48(66%): D:\\DCIM\\207_FUJI/FUJI7921.AVIF\n",
      "JPG -> AVIF 33/48(68%): D:\\DCIM\\207_FUJI/FUJI7922.AVIF\n",
      "JPG -> AVIF 34/48(70%): D:\\DCIM\\207_FUJI/FUJI7923.AVIF\n",
      "JPG -> AVIF 35/48(72%): D:\\DCIM\\207_FUJI/FUJI7926.AVIF\n",
      "JPG -> AVIF 36/48(75%): D:\\DCIM\\207_FUJI/FUJI7925.AVIF\n",
      "JPG -> AVIF 37/48(77%): D:\\DCIM\\207_FUJI/FUJI7930.AVIF\n",
      "JPG -> AVIF 38/48(79%): D:\\DCIM\\207_FUJI/FUJI7931.AVIF\n",
      "JPG -> AVIF 39/48(81%): D:\\DCIM\\207_FUJI/FUJI7932.AVIF\n",
      "JPG -> AVIF 40/48(83%): D:\\DCIM\\207_FUJI/FUJI7933.AVIF\n",
      "JPG -> AVIF 41/48(85%): D:\\DCIM\\207_FUJI/FUJI7934.AVIF\n",
      "JPG -> AVIF 42/48(87%): D:\\DCIM\\207_FUJI/FUJI7935.AVIF\n",
      "JPG -> AVIF 43/48(89%): D:\\DCIM\\207_FUJI/FUJI7936.AVIF\n",
      "JPG -> AVIF 44/48(91%): D:\\DCIM\\207_FUJI/FUJI7937.AVIF\n",
      "JPG -> AVIF 45/48(93%): D:\\DCIM\\207_FUJI/FUJI7938.AVIF\n",
      "JPG -> AVIF 46/48(95%): D:\\DCIM\\207_FUJI/FUJI7939.AVIF\n",
      "JPG -> AVIF 47/48(97%): D:\\DCIM\\207_FUJI/FUJI7942.AVIF\n",
      "JPG -> AVIF 48/48(100%): D:\\DCIM\\207_FUJI/FUJI7943.AVIF\n"
     ]
    }
   ],
   "source": [
    "# JPG to AVIF/HEIF\n",
    "# Convert JPG shoot by camera to .AVIF with metadata to import to iCloud photo library.\n",
    "\n",
    "import heiya\n",
    "import pyperclip as clip\n",
    "\n",
    "# Custom file path override, usually just leave it blank if you use pyperclip\n",
    "source_dir = \"\"\n",
    "\n",
    "# Get the image location directly from the clipboard\n",
    "if source_dir == \"\":\n",
    "    source_dir = clip.paste()\n",
    "    \n",
    "# This will convert all the JPG in source_dir to AVIF.\n",
    "heiya.to_hei.convert_image_in_dir_to_hei(source_dir, source_format=0, target_format=1)  # For HEIF, change target_format to 1."
   ]
  },
  {
   "cell_type": "code",
   "execution_count": null,
   "metadata": {},
   "outputs": [],
   "source": [
    "import os\n",
    "dir = \"#\"\n",
    "file = \"01 - Introduction\"\n",
    "input_video = dir + file + \".mp4\"\n",
    "subtitle = dir + file + \".srt\"\n",
    "output_video = dir + file + \"_sub.mp4\"\n",
    "command = \"ffmpeg -i \\\"{0}\\\" -i \\\"{1}\\\" -c copy -c:s mov_text \\\"{2}\\\"\".format(input_video, subtitle, output_video)\n",
    "print(command)\n",
    "os.system(command)"
   ]
  },
  {
   "cell_type": "code",
   "execution_count": null,
   "metadata": {},
   "outputs": [],
   "source": []
  }
 ],
 "metadata": {
  "kernelspec": {
   "display_name": "Python 3.10.2 64-bit",
   "language": "python",
   "name": "python3"
  },
  "language_info": {
   "codemirror_mode": {
    "name": "ipython",
    "version": 3
   },
   "file_extension": ".py",
   "mimetype": "text/x-python",
   "name": "python",
   "nbconvert_exporter": "python",
   "pygments_lexer": "ipython3",
   "version": "3.10.2"
  },
  "orig_nbformat": 4,
  "vscode": {
   "interpreter": {
    "hash": "369f2c481f4da34e4445cda3fffd2e751bd1c4d706f27375911949ba6bb62e1c"
   }
  }
 },
 "nbformat": 4,
 "nbformat_minor": 2
}
