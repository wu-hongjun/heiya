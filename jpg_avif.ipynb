{
 "cells": [
  {
   "cell_type": "code",
   "execution_count": 1,
   "metadata": {},
   "outputs": [
    {
     "name": "stdout",
     "output_type": "stream",
     "text": [
      "JPG -> AVIF 1/2(50%): /Volumes/SDXC/DCIM/207_FUJI/FUJI7542.AVIF\n",
      "JPG -> AVIF 2/2(100%): /Volumes/SDXC/DCIM/207_FUJI/FUJI7543.AVIF\n"
     ]
    }
   ],
   "source": [
    "# JPG to AVIF/HEIF\n",
    "# Convert JPG shoot by camera to .AVIF with metadata to import to iCloud photo library.\n",
    "\n",
    "import heiya\n",
    "import pyperclip as clip\n",
    "\n",
    "# Custom file path override, usually just leave it blank if you use pyperclip\n",
    "source_dir = \"\"\n",
    "\n",
    "# Get the image location directly from the clipboard\n",
    "if source_dir == \"\":\n",
    "    source_dir = clip.paste()\n",
    "    \n",
    "# This will convert all the JPG in source_dir to AVIF.\n",
    "heiya.to_hei.convert_image_in_dir_to_hei(source_dir, source_format=0, target_format=0)  # For HEIF, change target_format to 1."
   ]
  },
  {
   "cell_type": "code",
   "execution_count": 3,
   "metadata": {},
   "outputs": [],
   "source": [
    "import ffmpeg\n",
    "# ffmpeg -i input.mp4 -vf subtitles=subtitle.srt output_srt.mp4"
   ]
  },
  {
   "cell_type": "code",
   "execution_count": null,
   "metadata": {},
   "outputs": [],
   "source": [
    "stream = ffmpeg.input('input.mp4')\n",
    "stream = ffmpeg.hflip(stream)\n",
    "stream = ffmpeg.output(stream, 'output.mp4')\n",
    "ffmpeg.run(stream)"
   ]
  },
  {
   "cell_type": "code",
   "execution_count": 4,
   "metadata": {},
   "outputs": [
    {
     "name": "stderr",
     "output_type": "stream",
     "text": [
      "ffmpeg version 5.1.2 Copyright (c) 2000-2022 the FFmpeg developers\n",
      "  built with Apple clang version 14.0.0 (clang-1400.0.29.102)\n",
      "  configuration: --prefix=/opt/homebrew/Cellar/ffmpeg/5.1.2 --enable-shared --enable-pthreads --enable-version3 --cc=clang --host-cflags= --host-ldflags= --enable-ffplay --enable-gnutls --enable-gpl --enable-libaom --enable-libbluray --enable-libdav1d --enable-libmp3lame --enable-libopus --enable-librav1e --enable-librist --enable-librubberband --enable-libsnappy --enable-libsrt --enable-libtesseract --enable-libtheora --enable-libvidstab --enable-libvmaf --enable-libvorbis --enable-libvpx --enable-libwebp --enable-libx264 --enable-libx265 --enable-libxml2 --enable-libxvid --enable-lzma --enable-libfontconfig --enable-libfreetype --enable-frei0r --enable-libass --enable-libopencore-amrnb --enable-libopencore-amrwb --enable-libopenjpeg --enable-libspeex --enable-libsoxr --enable-libzmq --enable-libzimg --disable-libjack --disable-indev=jack --enable-videotoolbox --enable-neon\n",
      "  libavutil      57. 28.100 / 57. 28.100\n",
      "  libavcodec     59. 37.100 / 59. 37.100\n",
      "  libavformat    59. 27.100 / 59. 27.100\n",
      "  libavdevice    59.  7.100 / 59.  7.100\n",
      "  libavfilter     8. 44.100 /  8. 44.100\n",
      "  libswscale      6.  7.100 /  6.  7.100\n",
      "  libswresample   4.  7.100 /  4.  7.100\n",
      "  libpostproc    56.  6.100 / 56.  6.100\n",
      "Input #0, mov,mp4,m4a,3gp,3g2,mj2, from '/Volumes/Library/Videos/Masterclass/012---Christina.Aguilera.Masterclass.on.Singing唱歌（有字幕）/Christina Aguilera.Masterclass on Singing/01 - Introduction.mp4':\n",
      "  Metadata:\n",
      "    major_brand     : isom\n",
      "    minor_version   : 512\n",
      "    compatible_brands: isomiso2avc1mp41\n",
      "    encoder         : Lavf57.25.100\n",
      "  Duration: 00:02:41.54, start: 0.000000, bitrate: 1333 kb/s\n",
      "  Stream #0:0[0x1](eng): Video: h264 (High) (avc1 / 0x31637661), yuv420p(progressive), 960x540, 1199 kb/s, 23.98 fps, 23.98 tbr, 11988 tbn (default)\n",
      "    Metadata:\n",
      "      handler_name    : VideoHandler\n",
      "      vendor_id       : [0][0][0][0]\n",
      "  Stream #0:1[0x2](eng): Audio: aac (LC) (mp4a / 0x6134706D), 44100 Hz, stereo, fltp, 128 kb/s (default)\n",
      "    Metadata:\n",
      "      handler_name    : SoundHandler\n",
      "      vendor_id       : [0][0][0][0]\n",
      "Stream mapping:\n",
      "  Stream #0:0 -> #0:0 (h264 (native) -> h264 (libx264))\n",
      "  Stream #0:1 -> #0:1 (aac (native) -> aac (native))\n",
      "Press [q] to stop, [?] for help\n",
      "[Parsed_subtitles_0 @ 0x1387196b0] libass API version: 0x1600000\n",
      "[Parsed_subtitles_0 @ 0x1387196b0] libass source: tarball: 0.16.0\n",
      "[Parsed_subtitles_0 @ 0x1387196b0] Shaper: FriBidi 1.0.12 (SIMPLE) HarfBuzz-ng 5.3.0 (COMPLEX)\n",
      "[Parsed_subtitles_0 @ 0x1387196b0] Using font provider coretext\n",
      "[libx264 @ 0x13860f280] using cpu capabilities: ARMv8 NEON\n",
      "[libx264 @ 0x13860f280] profile High, level 3.1, 4:2:0, 8-bit\n",
      "[libx264 @ 0x13860f280] 264 - core 164 r3095 baee400 - H.264/MPEG-4 AVC codec - Copyleft 2003-2022 - http://www.videolan.org/x264.html - options: cabac=1 ref=3 deblock=1:0:0 analyse=0x3:0x113 me=hex subme=7 psy=1 psy_rd=1.00:0.00 mixed_ref=1 me_range=16 chroma_me=1 trellis=1 8x8dct=1 cqm=0 deadzone=21,11 fast_pskip=1 chroma_qp_offset=-2 threads=15 lookahead_threads=2 sliced_threads=0 nr=0 decimate=1 interlaced=0 bluray_compat=0 constrained_intra=0 bframes=3 b_pyramid=2 b_adapt=1 b_bias=0 direct=1 weightb=1 open_gop=0 weightp=2 keyint=250 keyint_min=23 scenecut=40 intra_refresh=0 rc_lookahead=40 rc=crf mbtree=1 crf=23.0 qcomp=0.60 qpmin=0 qpmax=69 qpstep=4 ip_ratio=1.40 aq=1:1.00\n",
      "Output #0, mp4, to '/Volumes/Library/Videos/Masterclass/012---Christina.Aguilera.Masterclass.on.Singing唱歌（有字幕）/Christina Aguilera.Masterclass on Singing/01 - Introduction_sub.mp4':\n",
      "  Metadata:\n",
      "    major_brand     : isom\n",
      "    minor_version   : 512\n",
      "    compatible_brands: isomiso2avc1mp41\n",
      "    encoder         : Lavf59.27.100\n",
      "  Stream #0:0(eng): Video: h264 (avc1 / 0x31637661), yuv420p(progressive), 960x540, q=2-31, 23.98 fps, 11988 tbn (default)\n",
      "    Metadata:\n",
      "      handler_name    : VideoHandler\n",
      "      vendor_id       : [0][0][0][0]\n",
      "      encoder         : Lavc59.37.100 libx264\n",
      "    Side data:\n",
      "      cpb: bitrate max/min/avg: 0/0/0 buffer size: 0 vbv_delay: N/A\n",
      "  Stream #0:1(eng): Audio: aac (LC) (mp4a / 0x6134706D), 44100 Hz, stereo, fltp, 128 kb/s (default)\n",
      "    Metadata:\n",
      "      handler_name    : SoundHandler\n",
      "      vendor_id       : [0][0][0][0]\n",
      "      encoder         : Lavc59.37.100 aac\n",
      "[Parsed_subtitles_0 @ 0x1387196b0] fontselect: (Arial, 400, 0) -> /System/Library/Fonts/Supplemental/Arial.ttf, -1, ArialMT\n",
      "frame= 3871 fps=408 q=-1.0 Lsize=   16353kB time=00:02:41.49 bitrate= 829.5kbits/s speed=  17x    \n",
      "video:13719kB audio:2513kB subtitle:0kB other streams:0kB global headers:0kB muxing overhead: 0.749824%\n",
      "[libx264 @ 0x13860f280] frame I:22    Avg QP:16.53  size: 32387\n",
      "[libx264 @ 0x13860f280] frame P:1127  Avg QP:19.28  size:  7524\n",
      "[libx264 @ 0x13860f280] frame B:2722  Avg QP:21.80  size:  1784\n",
      "[libx264 @ 0x13860f280] consecutive B-frames:  3.2%  7.5%  4.7% 84.5%\n",
      "[libx264 @ 0x13860f280] mb I  I16..4: 19.1% 62.9% 18.0%\n",
      "[libx264 @ 0x13860f280] mb P  I16..4:  4.7%  8.5%  0.8%  P16..4: 35.0% 11.5%  5.9%  0.0%  0.0%    skip:33.5%\n",
      "[libx264 @ 0x13860f280] mb B  I16..4:  0.5%  0.7%  0.1%  B16..8: 25.1%  2.8%  0.5%  direct: 3.6%  skip:66.8%  L0:43.1% L1:49.6% BI: 7.3%\n",
      "[libx264 @ 0x13860f280] 8x8 transform intra:60.1% inter:76.1%\n",
      "[libx264 @ 0x13860f280] coded y,uvDC,uvAC intra: 26.3% 44.1% 16.6% inter: 6.7% 11.3% 0.3%\n",
      "[libx264 @ 0x13860f280] i16 v,h,dc,p: 58% 23% 12%  7%\n",
      "[libx264 @ 0x13860f280] i8 v,h,dc,ddl,ddr,vr,hd,vl,hu: 19% 13% 50%  2%  3%  4%  3%  3%  3%\n",
      "[libx264 @ 0x13860f280] i4 v,h,dc,ddl,ddr,vr,hd,vl,hu: 22% 15% 16%  5% 12% 11%  8%  7%  4%\n",
      "[libx264 @ 0x13860f280] i8c dc,h,v,p: 67% 14% 17%  2%\n",
      "[libx264 @ 0x13860f280] Weighted P-Frames: Y:12.0% UV:10.1%\n",
      "[libx264 @ 0x13860f280] ref P L0: 62.6% 11.1% 18.3%  8.0%  0.1%\n",
      "[libx264 @ 0x13860f280] ref B L0: 86.5% 10.8%  2.8%\n",
      "[libx264 @ 0x13860f280] ref B L1: 96.0%  4.0%\n",
      "[libx264 @ 0x13860f280] kb/s:696.05\n",
      "[aac @ 0x1386106d0] Qavg: 1650.681\n"
     ]
    },
    {
     "data": {
      "text/plain": [
       "0"
      ]
     },
     "execution_count": 4,
     "metadata": {},
     "output_type": "execute_result"
    }
   ],
   "source": [
    "import os\n",
    "input_video = \"/Volumes/Library/Videos/Masterclass/012---Christina.Aguilera.Masterclass.on.Singing唱歌（有字幕）/Christina Aguilera.Masterclass on Singing/01 - Introduction.mp4\"\n",
    "subtitle = \"/Volumes/Library/Videos/Masterclass/012---Christina.Aguilera.Masterclass.on.Singing唱歌（有字幕）/Christina Aguilera.Masterclass on Singing/01 - Introduction.srt\"\n",
    "output_video = \"/Volumes/Library/Videos/Masterclass/012---Christina.Aguilera.Masterclass.on.Singing唱歌（有字幕）/Christina Aguilera.Masterclass on Singing/01 - Introduction_sub.mp4\"\n",
    "os.system(\"ffmpeg -i \\\"{0}\\\" -vf subtitles=\\\"{1}\\\" \\\"{2}\\\"\".format(input_video, subtitle, output_video))"
   ]
  },
  {
   "cell_type": "code",
   "execution_count": 2,
   "metadata": {},
   "outputs": [
    {
     "name": "stdout",
     "output_type": "stream",
     "text": [
      "ffmpeg -i \"/Volumes/Library/Videos/Masterclass/012---Christina.Aguilera.Masterclass.on.Singing唱歌（有字幕）/Christina Aguilera.Masterclass on Singing/01 - Introduction.mp4\" -c:v libx265 -vf subtitle=\"/Volumes/Library/Videos/Masterclass/012---Christina.Aguilera.Masterclass.on.Singing唱歌（有字幕）/Christina Aguilera.Masterclass on Singing/01 - Introduction.srt\" -vtag hvc1 -c:a copy \"/Volumes/Library/Videos/Masterclass/012---Christina.Aguilera.Masterclass.on.Singing唱歌（有字幕）/Christina Aguilera.Masterclass on Singing/01 - Introduction_sub.mp4\"\n"
     ]
    },
    {
     "name": "stderr",
     "output_type": "stream",
     "text": [
      "ffmpeg version 5.1.2 Copyright (c) 2000-2022 the FFmpeg developers\n",
      "  built with Apple clang version 14.0.0 (clang-1400.0.29.102)\n",
      "  configuration: --prefix=/opt/homebrew/Cellar/ffmpeg/5.1.2 --enable-shared --enable-pthreads --enable-version3 --cc=clang --host-cflags= --host-ldflags= --enable-ffplay --enable-gnutls --enable-gpl --enable-libaom --enable-libbluray --enable-libdav1d --enable-libmp3lame --enable-libopus --enable-librav1e --enable-librist --enable-librubberband --enable-libsnappy --enable-libsrt --enable-libtesseract --enable-libtheora --enable-libvidstab --enable-libvmaf --enable-libvorbis --enable-libvpx --enable-libwebp --enable-libx264 --enable-libx265 --enable-libxml2 --enable-libxvid --enable-lzma --enable-libfontconfig --enable-libfreetype --enable-frei0r --enable-libass --enable-libopencore-amrnb --enable-libopencore-amrwb --enable-libopenjpeg --enable-libspeex --enable-libsoxr --enable-libzmq --enable-libzimg --disable-libjack --disable-indev=jack --enable-videotoolbox --enable-neon\n",
      "  libavutil      57. 28.100 / 57. 28.100\n",
      "  libavcodec     59. 37.100 / 59. 37.100\n",
      "  libavformat    59. 27.100 / 59. 27.100\n",
      "  libavdevice    59.  7.100 / 59.  7.100\n",
      "  libavfilter     8. 44.100 /  8. 44.100\n",
      "  libswscale      6.  7.100 /  6.  7.100\n",
      "  libswresample   4.  7.100 /  4.  7.100\n",
      "  libpostproc    56.  6.100 / 56.  6.100\n",
      "Input #0, mov,mp4,m4a,3gp,3g2,mj2, from '/Volumes/Library/Videos/Masterclass/012---Christina.Aguilera.Masterclass.on.Singing唱歌（有字幕）/Christina Aguilera.Masterclass on Singing/01 - Introduction.mp4':\n",
      "  Metadata:\n",
      "    major_brand     : isom\n",
      "    minor_version   : 512\n",
      "    compatible_brands: isomiso2avc1mp41\n",
      "    encoder         : Lavf57.25.100\n",
      "  Duration: 00:02:41.54, start: 0.000000, bitrate: 1333 kb/s\n",
      "  Stream #0:0[0x1](eng): Video: h264 (High) (avc1 / 0x31637661), yuv420p(progressive), 960x540, 1199 kb/s, 23.98 fps, 23.98 tbr, 11988 tbn (default)\n",
      "    Metadata:\n",
      "      handler_name    : VideoHandler\n",
      "      vendor_id       : [0][0][0][0]\n",
      "  Stream #0:1[0x2](eng): Audio: aac (LC) (mp4a / 0x6134706D), 44100 Hz, stereo, fltp, 128 kb/s (default)\n",
      "    Metadata:\n",
      "      handler_name    : SoundHandler\n",
      "      vendor_id       : [0][0][0][0]\n",
      "Stream mapping:\n",
      "  Stream #0:0 -> #0:0 (h264 (native) -> hevc (libx265))\n",
      "  Stream #0:1 -> #0:1 (copy)\n",
      "Press [q] to stop, [?] for help\n",
      "[AVFilterGraph @ 0x12be07480] No such filter: 'subtitle'\n",
      "Error reinitializing filters!\n",
      "Failed to inject frame into filter network: Invalid argument\n",
      "Error while processing the decoded data for stream #0:0\n",
      "Conversion failed!\n"
     ]
    },
    {
     "data": {
      "text/plain": [
       "256"
      ]
     },
     "execution_count": 2,
     "metadata": {},
     "output_type": "execute_result"
    }
   ],
   "source": [
    "import heiya\n",
    "\n",
    "source_video = \"/Volumes/Library/Videos/Masterclass/012---Christina.Aguilera.Masterclass.on.Singing唱歌（有字幕）/Christina Aguilera.Masterclass on Singing/01 - Introduction.mp4\"\n",
    "output_video = \"/Volumes/Library/Videos/Masterclass/012---Christina.Aguilera.Masterclass.on.Singing唱歌（有字幕）/Christina Aguilera.Masterclass on Singing/01 - Introduction_sub.mp4\"\n",
    "subtitle = \"/Volumes/Library/Videos/Masterclass/012---Christina.Aguilera.Masterclass.on.Singing唱歌（有字幕）/Christina Aguilera.Masterclass on Singing/01 - Introduction.srt\"\n",
    "\n",
    "heiya.to_hei.video_to_h265(source_video, output=output_video, postpend=\"_h265\", output_extension = \".mp4\", subtitle=subtitle)"
   ]
  },
  {
   "cell_type": "code",
   "execution_count": null,
   "metadata": {},
   "outputs": [],
   "source": [
    "# Replace with your input video and subtitle file\n",
    "INFILE=\"\"\n",
    "SUBTITLES=\n",
    "\n",
    "ffmpeg -i $SUBTITLES temp.ass && \\\n",
    "BITRATE=\"ffprobe -v error -select_streams v:0 -show_entries stream=bit_rate -of default=noprint_wrappers=1:nokey=1 $INFILE) && \\\n",
    "ffmpeg -i $INFILE -vcodec libx265 -tag:v hvc1 -b:v $BITRATE -c:a copy -vf ass=temp.ass output_burnedin.mp4"
   ]
  },
  {
   "cell_type": "code",
   "execution_count": 6,
   "metadata": {},
   "outputs": [
    {
     "name": "stdout",
     "output_type": "stream",
     "text": [
      "ffmpeg -i \"/Volumes/Library/Videos/Masterclass/012---Christina.Aguilera.Masterclass.on.Singing唱歌（有字幕）/Christina Aguilera.Masterclass on Singing/01 - Introduction.mp4\" -i \"/Volumes/Library/Videos/Masterclass/012---Christina.Aguilera.Masterclass.on.Singing唱歌（有字幕）/Christina Aguilera.Masterclass on Singing/01 - Introduction.srt\" -c copy -c:s mov_text \"/Volumes/Library/Videos/Masterclass/012---Christina.Aguilera.Masterclass.on.Singing唱歌（有字幕）/Christina Aguilera.Masterclass on Singing/01 - Introduction_sub.mp4\"\n"
     ]
    },
    {
     "name": "stderr",
     "output_type": "stream",
     "text": [
      "ffmpeg version 5.1.2 Copyright (c) 2000-2022 the FFmpeg developers\n",
      "  built with Apple clang version 14.0.0 (clang-1400.0.29.102)\n",
      "  configuration: --prefix=/opt/homebrew/Cellar/ffmpeg/5.1.2 --enable-shared --enable-pthreads --enable-version3 --cc=clang --host-cflags= --host-ldflags= --enable-ffplay --enable-gnutls --enable-gpl --enable-libaom --enable-libbluray --enable-libdav1d --enable-libmp3lame --enable-libopus --enable-librav1e --enable-librist --enable-librubberband --enable-libsnappy --enable-libsrt --enable-libtesseract --enable-libtheora --enable-libvidstab --enable-libvmaf --enable-libvorbis --enable-libvpx --enable-libwebp --enable-libx264 --enable-libx265 --enable-libxml2 --enable-libxvid --enable-lzma --enable-libfontconfig --enable-libfreetype --enable-frei0r --enable-libass --enable-libopencore-amrnb --enable-libopencore-amrwb --enable-libopenjpeg --enable-libspeex --enable-libsoxr --enable-libzmq --enable-libzimg --disable-libjack --disable-indev=jack --enable-videotoolbox --enable-neon\n",
      "  libavutil      57. 28.100 / 57. 28.100\n",
      "  libavcodec     59. 37.100 / 59. 37.100\n",
      "  libavformat    59. 27.100 / 59. 27.100\n",
      "  libavdevice    59.  7.100 / 59.  7.100\n",
      "  libavfilter     8. 44.100 /  8. 44.100\n",
      "  libswscale      6.  7.100 /  6.  7.100\n",
      "  libswresample   4.  7.100 /  4.  7.100\n",
      "  libpostproc    56.  6.100 / 56.  6.100\n",
      "Input #0, mov,mp4,m4a,3gp,3g2,mj2, from '/Volumes/Library/Videos/Masterclass/012---Christina.Aguilera.Masterclass.on.Singing唱歌（有字幕）/Christina Aguilera.Masterclass on Singing/01 - Introduction.mp4':\n",
      "  Metadata:\n",
      "    major_brand     : isom\n",
      "    minor_version   : 512\n",
      "    compatible_brands: isomiso2avc1mp41\n",
      "    encoder         : Lavf57.25.100\n",
      "  Duration: 00:02:41.54, start: 0.000000, bitrate: 1333 kb/s\n",
      "  Stream #0:0[0x1](eng): Video: h264 (High) (avc1 / 0x31637661), yuv420p(progressive), 960x540, 1199 kb/s, 23.98 fps, 23.98 tbr, 11988 tbn (default)\n",
      "    Metadata:\n",
      "      handler_name    : VideoHandler\n",
      "      vendor_id       : [0][0][0][0]\n",
      "  Stream #0:1[0x2](eng): Audio: aac (LC) (mp4a / 0x6134706D), 44100 Hz, stereo, fltp, 128 kb/s (default)\n",
      "    Metadata:\n",
      "      handler_name    : SoundHandler\n",
      "      vendor_id       : [0][0][0][0]\n",
      "Input #1, srt, from '/Volumes/Library/Videos/Masterclass/012---Christina.Aguilera.Masterclass.on.Singing唱歌（有字幕）/Christina Aguilera.Masterclass on Singing/01 - Introduction.srt':\n",
      "  Duration: N/A, bitrate: N/A\n",
      "  Stream #1:0: Subtitle: subrip\n",
      "Multiple -c, -codec, -acodec, -vcodec, -scodec or -dcodec options specified for stream 2, only the last option '-c:s mov_text' will be used.\n",
      "Output #0, mp4, to '/Volumes/Library/Videos/Masterclass/012---Christina.Aguilera.Masterclass.on.Singing唱歌（有字幕）/Christina Aguilera.Masterclass on Singing/01 - Introduction_sub.mp4':\n",
      "  Metadata:\n",
      "    major_brand     : isom\n",
      "    minor_version   : 512\n",
      "    compatible_brands: isomiso2avc1mp41\n",
      "    encoder         : Lavf59.27.100\n",
      "  Stream #0:0(eng): Video: h264 (High) (avc1 / 0x31637661), yuv420p(progressive), 960x540, q=2-31, 1199 kb/s, 23.98 fps, 23.98 tbr, 11988 tbn (default)\n",
      "    Metadata:\n",
      "      handler_name    : VideoHandler\n",
      "      vendor_id       : [0][0][0][0]\n",
      "  Stream #0:1(eng): Audio: aac (LC) (mp4a / 0x6134706D), 44100 Hz, stereo, fltp, 128 kb/s (default)\n",
      "    Metadata:\n",
      "      handler_name    : SoundHandler\n",
      "      vendor_id       : [0][0][0][0]\n",
      "  Stream #0:2: Subtitle: mov_text (tx3g / 0x67337874)\n",
      "    Metadata:\n",
      "      encoder         : Lavc59.37.100 mov_text\n",
      "Stream mapping:\n",
      "  Stream #0:0 -> #0:0 (copy)\n",
      "  Stream #0:1 -> #0:1 (copy)\n",
      "  Stream #1:0 -> #0:2 (subrip (srt) -> mov_text (native))\n",
      "Press [q] to stop, [?] for help\n",
      "frame= 3871 fps=0.0 q=-1.0 Lsize=   26296kB time=00:02:41.49 bitrate=1333.9kbits/s speed= 525x    \n",
      "video:23648kB audio:2524kB subtitle:2kB other streams:0kB global headers:0kB muxing overhead: 0.466598%\n"
     ]
    },
    {
     "data": {
      "text/plain": [
       "0"
      ]
     },
     "execution_count": 6,
     "metadata": {},
     "output_type": "execute_result"
    }
   ],
   "source": [
    "import os\n",
    "dir = \"/Volumes/Library/Videos/Masterclass/012---Christina.Aguilera.Masterclass.on.Singing唱歌（有字幕）/Christina Aguilera.Masterclass on Singing/\"\n",
    "file = \"01 - Introduction\"\n",
    "input_video = dir + file + \".mp4\"\n",
    "subtitle = dir + file + \".srt\"\n",
    "output_video = dir + file + \"_sub.mp4\"\n",
    "command = \"ffmpeg -i \\\"{0}\\\" -i \\\"{1}\\\" -c copy -c:s mov_text \\\"{2}\\\"\".format(input_video, subtitle, output_video)\n",
    "print(command)\n",
    "os.system(command)"
   ]
  },
  {
   "cell_type": "code",
   "execution_count": null,
   "metadata": {},
   "outputs": [],
   "source": []
  }
 ],
 "metadata": {
  "kernelspec": {
   "display_name": "Python 3.8.13 ('base')",
   "language": "python",
   "name": "python3"
  },
  "language_info": {
   "codemirror_mode": {
    "name": "ipython",
    "version": 3
   },
   "file_extension": ".py",
   "mimetype": "text/x-python",
   "name": "python",
   "nbconvert_exporter": "python",
   "pygments_lexer": "ipython3",
   "version": "3.8.15"
  },
  "orig_nbformat": 4,
  "vscode": {
   "interpreter": {
    "hash": "ccfaef849455cb82dfcf38b07a416fc7e0fa5490bd7d0cd7d98b2a6b1749e9b9"
   }
  }
 },
 "nbformat": 4,
 "nbformat_minor": 2
}
