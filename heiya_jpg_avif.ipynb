{
 "cells": [
  {
   "cell_type": "markdown",
   "id": "1115de91",
   "metadata": {},
   "source": [
    "# Jumpstart demo: JPG to AVIF\n",
    "#### Hongjun Wu\n",
    "\n",
    "* Pretty much what I do every time I come back from a photo shoot.\n",
    "* I just copy the path of the folder that contain JPGs into the clipboard, and this cell will simply help me turn them into AVIFs.\n",
    "* If you don't need all the other fancy features, here it is.\n",
    "* Just make sure you `pip install heiya` and `pip install pyperclip` for this to work.\n"
   ]
  },
  {
   "cell_type": "code",
   "execution_count": null,
   "id": "34ce7a1d",
   "metadata": {},
   "outputs": [],
   "source": [
    "import heiya\n",
    "import pyperclip as clip\n",
    "\n",
    "# Custom file path override, usually just leave it blank if you use pyperclip\n",
    "source_dir = \"\"\n",
    "\n",
    "# Get the image location directly from the clipboard\n",
    "if source_dir == \"\":\n",
    "    source_dir = clip.paste()\n",
    "    \n",
    "# For example, this will convert all the JPG in source_dir to AVIF, feel free to play around with the parameters.\n",
    "# source_format: 0 = JPG, 1 = TIF; target_format: 0 = AVIF, 1 = HEIF.\n",
    "heiya.to_hei.convert_image_in_dir_to_hei(source_dir, source_format=0, target_format=1)"
   ]
  }
 ],
 "metadata": {
  "kernelspec": {
   "display_name": "Python 3.8.13 64-bit ('anaconda3')",
   "language": "python",
   "name": "python3"
  },
  "language_info": {
   "codemirror_mode": {
    "name": "ipython",
    "version": 3
   },
   "file_extension": ".py",
   "mimetype": "text/x-python",
   "name": "python",
   "nbconvert_exporter": "python",
   "pygments_lexer": "ipython3",
   "version": "3.8.13"
  },
  "vscode": {
   "interpreter": {
    "hash": "ccfaef849455cb82dfcf38b07a416fc7e0fa5490bd7d0cd7d98b2a6b1749e9b9"
   }
  }
 },
 "nbformat": 4,
 "nbformat_minor": 5
}
