{
 "cells": [
  {
   "cell_type": "markdown",
   "id": "1115de91",
   "metadata": {},
   "source": [
    "# Heiya Demo\n",
    "### Hongjun Wu\n",
    "### 20221001\n",
    "\n",
    "#### This notebook contains two tools: TIF/JPG -> HEI and HEI -> JPG. \n",
    "\n",
    "* The main purpose of this tool is for a better High Efficiency Image based workflow. \n",
    "* High Efficiency Image (HEI) is 10x smaller than traditional JPEG, let alone a massive TIF file.\n",
    "* This tools supports both HEIC(.HIF) and AVIF(.AVIF) codec.\n",
    "* This tool is developed and tested on macOS and might not work on Windows.\n",
    "\n",
    "## Requirements\n",
    "* This notebook requires `haiya` and optionally `pyperclip` to run.\n",
    "\n",
    "#### Note about `pyperclip`\n",
    "* heiya does not depend on pyperclip. \n",
    "* Pyperclip enables access to your clipboard which would be beneficial to your workflow.\n",
    "* If you don't want to install pyperclip on your machine, just manually input the file path into corresponding cells."
   ]
  },
  {
   "cell_type": "code",
   "execution_count": 1,
   "id": "cec6e58a",
   "metadata": {},
   "outputs": [],
   "source": [
    "# Import Statements\n",
    "import heiya\n",
    "import pyperclip as clip "
   ]
  },
  {
   "cell_type": "markdown",
   "id": "d0ac4fea",
   "metadata": {},
   "source": [
    "# Tool 1 Executable: Image to High Efficiency Image (AVIF/HIF) Converter\n",
    "\n",
    "* On macOS, use finder to navigate to the folder that contains the .tif or .jpg images, and hold `option` key.\n",
    "* You should be able to see your directory. Right click and select `Copy *YOUR FOLDER* as Pathname`.\n",
    "* Come back to this notebook, and run the `Executable` cell.\n",
    "* User should run the below cell each time they wish to convert files in a directory.\n"
   ]
  },
  {
   "cell_type": "code",
   "execution_count": 14,
   "id": "f86fad3c",
   "metadata": {
    "scrolled": false
   },
   "outputs": [
    {
     "name": "stdout",
     "output_type": "stream",
     "text": [
      "Starting operation in: /Users/hongjunwu/Desktop/test/20221001-Car_Crash_Site\n",
      "Deleted .JPG 1/3(33%): /Users/hongjunwu/Desktop/test/20221001-Car_Crash_Site/FUJI4400.jpeg\n",
      "Deleted .JPG 2/3(66%): /Users/hongjunwu/Desktop/test/20221001-Car_Crash_Site/FUJI4398.JPG\n",
      "Deleted .JPG 3/3(100%): /Users/hongjunwu/Desktop/test/20221001-Car_Crash_Site/FUJI4399.JPG\n"
     ]
    }
   ],
   "source": [
    "# Batch convert in a directory.\n",
    "\n",
    "# Custom file path override, usually just leave it blank\n",
    "source_dir = \"\"\n",
    "\n",
    "# Get the directory directly from the clipboard\n",
    "if source_dir == \"\":\n",
    "    source_dir = clip.paste()\n",
    "    \n",
    "print(\"Starting operation in: \" + source_dir)\n",
    "\n",
    "# Convert all the tif file to HEI\n",
    "heiya.to_hei.convert_image_in_dir(source_dir, source_tif=False, source_jpg=True, target_hif=False, target_avif=True)"
   ]
  },
  {
   "cell_type": "code",
   "execution_count": null,
   "id": "62ab91c6",
   "metadata": {},
   "outputs": [],
   "source": [
    "# Workspace cleanup, delete all the TIFF file and JPG in the directory if you don't need them for storage.\n",
    "heiya.tools.delete_image_in_dir(source_dir, tif=False, jpg=True)"
   ]
  },
  {
   "cell_type": "code",
   "execution_count": 20,
   "id": "b1e3a75a",
   "metadata": {},
   "outputs": [
    {
     "name": "stdout",
     "output_type": "stream",
     "text": [
      "Searching 2 hierarchies down from: /Users/hongjunwu/Desktop/test\n",
      "JPG -> AVIF 1/1(100%): /Users/hongjunwu/Desktop/test/1/3/1680.AVIF\n",
      "JPG -> AVIF 1/1(100%): /Users/hongjunwu/Desktop/test/1/2/1545.AVIF\n"
     ]
    }
   ],
   "source": [
    "# Batch convert with directory depth.\n",
    "\n",
    "\"\"\"\n",
    "Example: \n",
    "    /Photos/2022/01/20220105/img1.jpg, ...\n",
    "    Then with source_dir = \"/Photos\":\n",
    "        depth = 0 -> \"/Photos\"\n",
    "        depth = 1 -> \"/Photos/2022\"\n",
    "        depth = 2 -> \"/Photos/2022/01\"\n",
    "        depth = 3 -> \"/Photos/2022/01/20220105\"\n",
    "\"\"\"\n",
    "\n",
    "# Custom file path override, usually just leave it blank\n",
    "source_dir = \"\"\n",
    "\n",
    "# Get the directory directly from the clipboard\n",
    "if source_dir == \"\":\n",
    "    source_dir = clip.paste()\n",
    "    \n",
    "# For this example, depth should be set to 3\n",
    "depth = 3\n",
    "\n",
    "print(\"Searching \" + str(depth) + \" hierarchies down from: \" + source_dir)\n",
    "\n",
    "heiya.to_hei.convert_all_sub_folders_to_hei(source_dir, source_jpg=True, target_avif=True, depth=depth)"
   ]
  },
  {
   "cell_type": "markdown",
   "id": "9018d119",
   "metadata": {},
   "source": [
    "# Tool 2 Executable: High Efficiency Image (AVIF/HIF) to JPG Converter\n",
    "* This will translate all the image in a file path (from your clipboard) into JPG.\n",
    "* Just specify the source format (`\".AVIF\"` or `.HIF`) and hit go! \n",
    "* User should run the below cell each time they wish to convert files in a directory."
   ]
  },
  {
   "cell_type": "code",
   "execution_count": 17,
   "id": "6afe1629",
   "metadata": {},
   "outputs": [
    {
     "name": "stdout",
     "output_type": "stream",
     "text": [
      "Starting operation in: /Users/hongjunwu/Desktop/test/1/3\n",
      ".AVIF -> .JPG 1/1(100%): /Users/hongjunwu/Desktop/test/1/3/1680.JPG\n"
     ]
    }
   ],
   "source": [
    "# Custom file path override, usually just leave it blank\n",
    "source_dir = \"\"\n",
    "\n",
    "# Get the directory directly from the clipboard\n",
    "if source_dir == \"\":\n",
    "    source_dir = clip.paste()\n",
    "    \n",
    "print(\"Starting operation in: \" + source_dir)\n",
    "\n",
    "# Convert all the HEI file to hif\n",
    "heiya.from_hei.convert_hei_in_dir_to_jpg(source_dir, source_hif=False, source_avif=True, fix_rotation=True)"
   ]
  },
  {
   "cell_type": "markdown",
   "id": "fb3cee79",
   "metadata": {},
   "source": [
    "# Tool 3 Executable: Encode JPG using High Efficiency Codec\n",
    "* This tool will translate JPG into a JPG that is encoded using one of the two high efficiency codec."
   ]
  },
  {
   "cell_type": "code",
   "execution_count": 2,
   "id": "c1b0a860",
   "metadata": {},
   "outputs": [
    {
     "name": "stdout",
     "output_type": "stream",
     "text": [
      "Starting operation in: /Users/hongjunwu/Desktop/test/1/2\n",
      "Backup 1/1(100%): /Users/hongjunwu/Desktop/test/1/2/original/1545.JPG\n",
      "JPG -> AVIF 1/1(100%): /Users/hongjunwu/Desktop/test/1/2/1545.AVIF\n",
      ".AVIF -> .JPG 1/1(100%): /Users/hongjunwu/Desktop/test/1/2/1545.JPG\n",
      "Deleted .AVIF 1/1(100%): /Users/hongjunwu/Desktop/test/1/2/1545.AVIF\n"
     ]
    }
   ],
   "source": [
    "# Custom file path override, usually just leave it blank\n",
    "source_dir = \"/Users/hongjunwu/Desktop/test/1/2\"\n",
    "\n",
    "# Get the directory directly from the clipboard\n",
    "if source_dir == \"\":\n",
    "    source_dir = clip.paste()\n",
    "    \n",
    "print(\"Starting operation in: \" + source_dir)\n",
    "\n",
    "# Convert all the HEI file to hif\n",
    "heiya.he_jpg.convert_jpg_to_he_jpg(source_dir, use_hif=False, use_avif=True, preserve_original_jpg=True)"
   ]
  },
  {
   "cell_type": "code",
   "execution_count": null,
   "id": "9ba84da9",
   "metadata": {},
   "outputs": [],
   "source": []
  }
 ],
 "metadata": {
  "kernelspec": {
   "display_name": "Python 3 (ipykernel)",
   "language": "python",
   "name": "python3"
  },
  "language_info": {
   "codemirror_mode": {
    "name": "ipython",
    "version": 3
   },
   "file_extension": ".py",
   "mimetype": "text/x-python",
   "name": "python",
   "nbconvert_exporter": "python",
   "pygments_lexer": "ipython3",
   "version": "3.8.13"
  }
 },
 "nbformat": 4,
 "nbformat_minor": 5
}
