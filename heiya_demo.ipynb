{
 "cells": [
  {
   "cell_type": "markdown",
   "id": "1115de91",
   "metadata": {},
   "source": [
    "# Demo for Haiya - The Image to HEI Converter\n",
    "\n",
    "#### Hongjun Wu\n",
    "\n",
    "## Requirements\n",
    "* This notebook requires `haiya` and optionally `pyperclip` to run."
   ]
  },
  {
   "cell_type": "code",
   "execution_count": null,
   "id": "cec6e58a",
   "metadata": {},
   "outputs": [],
   "source": [
    "import heiya"
   ]
  },
  {
   "cell_type": "markdown",
   "id": "dbed3358",
   "metadata": {},
   "source": [
    "#### Note about `pyperclip`\n",
    "* heiya does not depend on pyperclip. \n",
    "* Pyperclip enables access to your clipboard which would be beneficial to your workflow.\n",
    "* If you don't want to install pyperclip on your machine, just manually input the file path into corresponding cells."
   ]
  },
  {
   "cell_type": "code",
   "execution_count": null,
   "id": "b572fba6",
   "metadata": {},
   "outputs": [],
   "source": [
    "import pyperclip as clip "
   ]
  },
  {
   "cell_type": "markdown",
   "id": "c7a12fcb",
   "metadata": {},
   "source": [
    "A quick tutorial how to use `pyperclip` can be found below as well as Demo 1.1, feel free to use this to build your own workflow."
   ]
  },
  {
   "cell_type": "code",
   "execution_count": null,
   "id": "34ce7a1d",
   "metadata": {},
   "outputs": [],
   "source": [
    "# Demo 0 - This is how I use pyperclip to define the source path to feed into the functions.\n",
    "\n",
    "# Custom file path override, usually just leave it blank\n",
    "source_img = \"\"\n",
    "\n",
    "# Get the image location directly from the clipboard\n",
    "if source_img == \"\":\n",
    "    source_img = clip.paste()"
   ]
  },
  {
   "cell_type": "markdown",
   "id": "d0ac4fea",
   "metadata": {},
   "source": [
    "# Demo 1: Image to High Efficiency Image Converter\n",
    "\n",
    "* On macOS, use finder to navigate to the folder that contains the .tif or .jpg images, and hold `option` key.\n",
    "* You should be able to see your directory. Right click and select `Copy *YOUR FOLDER* as Pathname`.\n",
    "* Come back to this notebook, and run the `Executable` cell.\n",
    "* User should run the below cell each time they wish to convert files in a directory.\n"
   ]
  },
  {
   "cell_type": "code",
   "execution_count": null,
   "id": "a437724e",
   "metadata": {},
   "outputs": [],
   "source": [
    "# Demo 1.1 - Convert one single image to HEI\n",
    "\n",
    "# Custom file path override, usually just leave it blank\n",
    "source_img = \"\"\n",
    "\n",
    "# Get the image location directly from the clipboard\n",
    "if source_img == \"\":\n",
    "    source_img = clip.paste()\n",
    "    \n",
    "print(\"Starting operation in: \" + source_img)\n",
    "\n",
    "# Convert the image to HEI\n",
    "heiya.to_hei.convert_image_to_hei(source_img, target_format=\".AVIF\")  # AVIF\n",
    "# heiya.to_hei.convert_image_to_hei(source_img, target_format=\".HIF\")  # HEIC"
   ]
  },
  {
   "cell_type": "code",
   "execution_count": null,
   "id": "f86fad3c",
   "metadata": {
    "scrolled": false
   },
   "outputs": [],
   "source": [
    "# Demo 1.2 - Batch convert all images in a directory to HEI\n",
    "\n",
    "source_dir = \"\"\n",
    "\n",
    "heiya.to_hei.convert_image_in_dir(source_dir, source_tif=False, source_jpg=True, target_hif=False, target_avif=True)"
   ]
  },
  {
   "cell_type": "code",
   "execution_count": null,
   "id": "62ab91c6",
   "metadata": {},
   "outputs": [],
   "source": [
    "# Demo 1.3.1 - Workspace Cleanup\n",
    "\n",
    "# You can use this function to delete all the files of a certain extension in a directory.\n",
    "\n",
    "\"\"\"\n",
    "# You can find these in heiya/extensions.py\n",
    "\n",
    "tif = (\".tif\", \".tiff\", \".TIF\", \".TIFF\")\n",
    "avif = (\".AVIF\", \".avif\", \".AV1F\", \".av1f\")\n",
    "hif = (\".HIF\", \".hif\", \".HEIF\", \".heif\", \".HEIC\", \".heic\")\n",
    "jpg = (\".JPG\", \".JPEG\", \".jpeg\", \".jpg\")\n",
    "fpn = (\".FP3\", \".fp3\", \".FP2\", \".fp2\")\n",
    "\"\"\"\n",
    "\n",
    "heiya.tools.delete_image_in_dir(source_dir, tif=False, jpg=False, hif=False, avif=False, fpn=False)"
   ]
  },
  {
   "cell_type": "code",
   "execution_count": null,
   "id": "14df1db5",
   "metadata": {},
   "outputs": [],
   "source": [
    "# Demo 1.3.2 \n",
    "\n",
    "# Alternatively, you can also use this function to delete all the files with a certain extension\n",
    "heiya.tools.delete_all_ext_in_dir(source_dir, \".SOMETHING\")"
   ]
  },
  {
   "cell_type": "code",
   "execution_count": null,
   "id": "b1e3a75a",
   "metadata": {},
   "outputs": [],
   "source": [
    "# Demo 1.4 - Batch convert image to HEI using directory depth.\n",
    "\n",
    "\"\"\"\n",
    "Example: \n",
    "    Sample File Structure:\n",
    "    /Photos\n",
    "        /2022\n",
    "            /09\n",
    "                /20220901/img11.jpg, ...\n",
    "            /10\n",
    "                /20221001/img11.jpg, ...\n",
    "                /20221002/img21.jpg, ...\n",
    "\n",
    "    Then with source_dir = \"/Photos\":\n",
    "        depth = 0 -> [\"/Photos\"]\n",
    "        depth = 1 -> [\"/Photos/2022\"]\n",
    "        depth = 2 -> [\"/Photos/2022/09\", \"/Photos/2022/10\"]\n",
    "        depth = 3 -> [\"/Photos/2022/09/20220901\", \"/Photos/2022/10/20221001\", \"/Photos/2022/10/20221002\"]\n",
    "\"\"\"\n",
    "\n",
    "# For this example, depth should be set to 3\n",
    "source_dir = \"\"\n",
    "depth = 3\n",
    "\n",
    "heiya.to_hei.convert_all_sub_folders_to_hei(source_dir, source_jpg=True, target_avif=True, depth=depth)"
   ]
  },
  {
   "cell_type": "markdown",
   "id": "9018d119",
   "metadata": {},
   "source": [
    "# Demo 2: High Efficiency Image (AVIF/HIF) to JPG Converter\n",
    "* This will translate all the image in a file path (from your clipboard) into JPG.\n",
    "* Just specify the source format (`\".AVIF\"` or `.HIF`) and hit go! \n",
    "* User should run the below cell each time they wish to convert files in a directory."
   ]
  },
  {
   "cell_type": "code",
   "execution_count": null,
   "id": "68152f63",
   "metadata": {},
   "outputs": [],
   "source": [
    "# Demo 2.1 - Convert one single HEI to JPG\n",
    "\n",
    "# Custom file path override, usually just leave it blank\n",
    "source_img = \"\"\n",
    "\n",
    "heiya.from_hei.convert_hei_to_image(source_img, target_format=\".JPG\", fix_rotation=True)"
   ]
  },
  {
   "cell_type": "code",
   "execution_count": null,
   "id": "6afe1629",
   "metadata": {},
   "outputs": [],
   "source": [
    "# Demo 2.2 - Batch convert all HEI in a directory to JPG\n",
    "\n",
    "# Custom file path override, usually just leave it blank\n",
    "source_dir = \"\"\n",
    "\n",
    "heiya.from_hei.convert_hei_in_dir_to_jpg(source_dir, source_hif=False, source_avif=True, fix_rotation=True)"
   ]
  },
  {
   "cell_type": "markdown",
   "id": "fb3cee79",
   "metadata": {},
   "source": [
    "# Demo 3: Encode JPG using High Efficiency Codec\n",
    "* This tool will translate JPG into a JPG that is encoded using one of the two high efficiency codec."
   ]
  },
  {
   "cell_type": "code",
   "execution_count": null,
   "id": "c1b0a860",
   "metadata": {},
   "outputs": [],
   "source": [
    "# Demo 3.1 - JPG -> HEI -> JPG\n",
    "\n",
    "# Custom file path override, usually just leave it blank\n",
    "source_dir = \"\"\n",
    "\n",
    "heiya.he_jpg.convert_jpg_to_he_jpg(source_dir, use_hif=False, use_avif=True, preserve_original_jpg=True)"
   ]
  },
  {
   "cell_type": "code",
   "execution_count": null,
   "id": "9ba84da9",
   "metadata": {},
   "outputs": [],
   "source": []
  }
 ],
 "metadata": {
  "kernelspec": {
   "display_name": "Python 3.8.13 ('base')",
   "language": "python",
   "name": "python3"
  },
  "language_info": {
   "codemirror_mode": {
    "name": "ipython",
    "version": 3
   },
   "file_extension": ".py",
   "mimetype": "text/x-python",
   "name": "python",
   "nbconvert_exporter": "python",
   "pygments_lexer": "ipython3",
   "version": "3.8.13"
  },
  "vscode": {
   "interpreter": {
    "hash": "ccfaef849455cb82dfcf38b07a416fc7e0fa5490bd7d0cd7d98b2a6b1749e9b9"
   }
  }
 },
 "nbformat": 4,
 "nbformat_minor": 5
}
