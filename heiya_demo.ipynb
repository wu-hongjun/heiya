{
 "cells": [
  {
   "cell_type": "markdown",
   "id": "1115de91",
   "metadata": {},
   "source": [
    "# Demo for Haiya - The Image to HEI Converter\n",
    "\n",
    "#### Hongjun Wu\n",
    "\n",
    "## Requirements\n",
    "* This notebook requires `haiya` and optionally `pyperclip` to run."
   ]
  },
  {
   "cell_type": "code",
   "execution_count": null,
   "id": "cec6e58a",
   "metadata": {},
   "outputs": [],
   "source": [
    "import heiya"
   ]
  },
  {
   "cell_type": "markdown",
   "id": "dbed3358",
   "metadata": {},
   "source": [
    "#### Note about `pyperclip`\n",
    "* heiya does not depend on pyperclip. \n",
    "* Pyperclip enables access to your clipboard which would be beneficial to your workflow.\n",
    "* If you don't want to install pyperclip on your machine, just manually input the file path into corresponding cells."
   ]
  },
  {
   "cell_type": "markdown",
   "id": "c7a12fcb",
   "metadata": {},
   "source": [
    "A quick tutorial how to use `pyperclip` can be found below as well as Demo 1.1, feel free to use this to build your own workflow."
   ]
  },
  {
   "cell_type": "code",
   "execution_count": null,
   "id": "34ce7a1d",
   "metadata": {},
   "outputs": [],
   "source": [
    "# Demo 0 - This is how I use pyperclip to define the source path to feed into the functions.\n",
    "\n",
    "import pyperclip as clip \n",
    "\n",
    "# Custom file path override, usually just leave it blank if you use pyperclip\n",
    "source_img = \"\"\n",
    "\n",
    "# Get the image location directly from the clipboard\n",
    "if source_img == \"\":\n",
    "    source_img = clip.paste()\n",
    "    \n",
    "# For fun, let's see what pyperclip got from your clipboard\n",
    "print(source_img)"
   ]
  },
  {
   "cell_type": "markdown",
   "id": "d0ac4fea",
   "metadata": {},
   "source": [
    "# Demo 1: Image to High Efficiency Image Converter\n",
    "\n",
    "* On macOS, use finder to navigate to the folder that contains the .tif or .jpg images, and hold `option` key (On a normal keyboard, the left `alt`).\n",
    "* You should be able to see your directory. Right click and select `Copy *YOUR FOLDER* as Pathname`.\n",
    "* Come back to this notebook, enter that direction into the `source_img` or `source_dir` (It is automatically pasted if you use pyperclip).\n",
    "* User should run the below cells each time they wish to convert files in a directory.\n"
   ]
  },
  {
   "cell_type": "code",
   "execution_count": null,
   "id": "a437724e",
   "metadata": {},
   "outputs": [],
   "source": [
    "# Demo 1.1 - Convert one single image to HEI\n",
    "\n",
    "source_img = \"\"\n",
    "\n",
    "# Get the image location directly from the clipboard\n",
    "if source_img == \"\":\n",
    "    source_img = clip.paste()\n",
    "    \n",
    "print(\"Starting operation in: \" + source_img)\n",
    "\n",
    "# Convert the image to AVIF\n",
    "heiya.to_hei.convert_image_to_hei(source_img, target_format=\".AVIF\")\n",
    "\n",
    "# Additionally, you can convert the image to HEIC\n",
    "heiya.to_hei.convert_image_to_hei(source_img, target_format=\".HIF\")  "
   ]
  },
  {
   "cell_type": "code",
   "execution_count": null,
   "id": "f86fad3c",
   "metadata": {
    "scrolled": false
   },
   "outputs": [],
   "source": [
    "# Demo 1.2 - Batch convert all images in a directory to HEI\n",
    "\n",
    "source_dir = \"\"\n",
    "\n",
    "heiya.to_hei.convert_image_in_dir_to_hei(source_dir, source_tif=False, source_jpg=True, \n",
    "                                         target_hif=True, target_avif=True)"
   ]
  },
  {
   "cell_type": "code",
   "execution_count": null,
   "id": "62ab91c6",
   "metadata": {},
   "outputs": [],
   "source": [
    "# Demo 1.3.1 - Workspace Cleanup\n",
    "\n",
    "# You can use this function to delete all the files of a certain extension in a directory.\n",
    "\n",
    "\"\"\"\n",
    "# You can find these in heiya/extensions.py\n",
    "\n",
    "tif = (\".tif\", \".tiff\", \".TIF\", \".TIFF\")\n",
    "avif = (\".AVIF\", \".avif\", \".AV1F\", \".av1f\")\n",
    "hif = (\".HIF\", \".hif\", \".HEIF\", \".heif\", \".HEIC\", \".heic\")\n",
    "jpg = (\".JPG\", \".JPEG\", \".jpeg\", \".jpg\")\n",
    "fpn = (\".FP3\", \".fp3\", \".FP2\", \".fp2\")\n",
    "\"\"\"\n",
    "\n",
    "source_dir = \"\"\n",
    "\n",
    "heiya.tools.delete_image_in_dir(source_dir, tif=False, jpg=False, hif=False, avif=False, fpn=False)"
   ]
  },
  {
   "cell_type": "code",
   "execution_count": null,
   "id": "14df1db5",
   "metadata": {},
   "outputs": [],
   "source": [
    "# Demo 1.3.2 - Delete files with a certain extension\n",
    "\n",
    "source_dir = \"\"\n",
    "\n",
    "# Alternatively, you can also use this function to delete all the files with a certain extension\n",
    "heiya.tools.delete_all_ext_in_dir(source_dir, \".SOME_EXT\")"
   ]
  },
  {
   "cell_type": "code",
   "execution_count": null,
   "id": "b1e3a75a",
   "metadata": {},
   "outputs": [],
   "source": [
    "# Demo 1.4 - Batch convert image to HEI using directory depth.\n",
    "\n",
    "\"\"\"\n",
    "Example: \n",
    "    Sample File Structure:\n",
    "    /Photos\n",
    "        /2022\n",
    "            /09\n",
    "                /20220901/img11.jpg, ...\n",
    "            /10\n",
    "                /20221001/img11.jpg, ...\n",
    "                /20221002/img21.jpg, ...\n",
    "\n",
    "    Then with source_dir = \"/Photos\":\n",
    "        depth = 0 -> [\"/Photos\"]\n",
    "        depth = 1 -> [\"/Photos/2022\"]\n",
    "        depth = 2 -> [\"/Photos/2022/09\", \"/Photos/2022/10\"]\n",
    "        depth = 3 -> [\"/Photos/2022/09/20220901\", \"/Photos/2022/10/20221001\", \"/Photos/2022/10/20221002\"]\n",
    "        \n",
    "    For the above example, depth should be set to 3.\n",
    "\"\"\"\n",
    "\n",
    "source_dir = \"\"\n",
    "depth = 0  # Really depends on your own file structure\n",
    "\n",
    "heiya.to_hei.convert_all_sub_folders_to_hei(source_dir, source_tif=False, source_jpg=True, \n",
    "                                            target_hif=False, target_avif=True, depth=depth)"
   ]
  },
  {
   "cell_type": "markdown",
   "id": "9018d119",
   "metadata": {},
   "source": [
    "# Demo 2: High Efficiency Image (AVIF/HIF) to JPG Converter"
   ]
  },
  {
   "cell_type": "code",
   "execution_count": null,
   "id": "68152f63",
   "metadata": {},
   "outputs": [],
   "source": [
    "# Demo 2.1 - Convert one single HEI to JPG\n",
    "\n",
    "source_img = \"\"\n",
    "\n",
    "heiya.from_hei.convert_hei_to_image(source_img, target_format=\".JPG\", fix_rotation=True)"
   ]
  },
  {
   "cell_type": "code",
   "execution_count": null,
   "id": "6afe1629",
   "metadata": {},
   "outputs": [],
   "source": [
    "# Demo 2.2 - Batch convert all HEI in a directory to JPG\n",
    "\n",
    "source_dir = \"\"\n",
    "\n",
    "heiya.from_hei.convert_hei_in_dir_to_jpg(source_dir, source_hif=False, source_avif=True, fix_rotation=True)"
   ]
  },
  {
   "cell_type": "markdown",
   "id": "fb3cee79",
   "metadata": {},
   "source": [
    "# Demo 3: Encode JPG using High Efficiency Codec\n",
    "* This tool will translate JPG into a JPG that is encoded using one of the two high efficiency codec.\n",
    "* Note you must specify only one of the two parameters, `use_hif` and `use_avif` to `True` in order to select the codec."
   ]
  },
  {
   "cell_type": "code",
   "execution_count": null,
   "id": "56fdd883",
   "metadata": {},
   "outputs": [],
   "source": [
    "# Demo 3.1 - JPG -> HEI -> JPG\n",
    "\n",
    "source_image = \"\"\n",
    "\n",
    "heiya.he_img.convert_img_to_he_img(source_image, target_format=\".JPG\", \n",
    "                                use_hif=False, use_avif=True, \n",
    "                                preserve_original_img=True, backup_folder_name=\"original\")"
   ]
  },
  {
   "cell_type": "code",
   "execution_count": null,
   "id": "c1b0a860",
   "metadata": {},
   "outputs": [],
   "source": [
    "# Demo 3.2 - JPG -> HEI -> JPG in a directory\n",
    "\n",
    "source_dir = \"\"\n",
    "\n",
    "heiya.he_img.convert_img_in_dir_to_he_img(source_dir, target_format=\".JPG\", \n",
    "                                        use_hif=False, use_avif=True, \n",
    "                                        preserve_original_img=True, backup_folder_name=\"original\")"
   ]
  }
 ],
 "metadata": {
  "kernelspec": {
   "display_name": "Python 3 (ipykernel)",
   "language": "python",
   "name": "python3"
  },
  "language_info": {
   "codemirror_mode": {
    "name": "ipython",
    "version": 3
   },
   "file_extension": ".py",
   "mimetype": "text/x-python",
   "name": "python",
   "nbconvert_exporter": "python",
   "pygments_lexer": "ipython3",
   "version": "3.8.13"
  },
  "vscode": {
   "interpreter": {
    "hash": "31f2aee4e71d21fbe5cf8b01ff0e069b9275f58929596ceb00d14d90e3e16cd6"
   }
  }
 },
 "nbformat": 4,
 "nbformat_minor": 5
}
