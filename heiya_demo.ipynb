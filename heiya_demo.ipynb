{
 "cells": [
  {
   "cell_type": "markdown",
   "id": "1115de91",
   "metadata": {},
   "source": [
    "# Haiya Full Demo\n",
    "\n",
    "#### Hongjun Wu\n",
    "\n",
    "> These examples should give you a good idea of what building blocks are available for you to build your HEI based image pipeline.\n",
    "\n",
    "* Before everything, run `pip install heiya` and `pip install heiya --upgrade` to make sure you are on the latest version.\n",
    "* I refactored quite a lot of code and legacy function calls will not work!"
   ]
  },
  {
   "cell_type": "code",
   "execution_count": 1,
   "id": "cec6e58a",
   "metadata": {},
   "outputs": [],
   "source": [
    "# This notebook requires haiya and optionally pyperclip (in the next cell) to run.\n",
    "import heiya"
   ]
  },
  {
   "cell_type": "markdown",
   "id": "dbed3358",
   "metadata": {},
   "source": [
    "### Note about `pyperclip`\n",
    "* heiya does not depend on pyperclip, however this demo will benefit a lot from it, you can install it from `pip install pyperclip`. \n",
    "* Pyperclip enables access to your clipboard which would be beneficial to your workflow.\n",
    "* If you don't want to install pyperclip on your machine, just manually input the file path into corresponding cells.\n",
    "* A quick tutorial how to use `pyperclip` can be found below as well as Demo 1.1, feel free to use this to build your own workflow."
   ]
  },
  {
   "cell_type": "code",
   "execution_count": null,
   "id": "34ce7a1d",
   "metadata": {},
   "outputs": [],
   "source": [
    "# Demo 0 - This is how I use pyperclip to define the source path to feed into the functions.\n",
    "\n",
    "import pyperclip as clip\n",
    "\n",
    "# Custom file path override, usually just leave it blank if you use pyperclip\n",
    "source_img = \"\"\n",
    "\n",
    "# Get the image location directly from the clipboard\n",
    "if source_img == \"\":\n",
    "    source_img = clip.paste()\n",
    "    \n",
    "# For fun, let's see what pyperclip got from your clipboard\n",
    "print(source_img)"
   ]
  },
  {
   "cell_type": "markdown",
   "id": "a13e73c0",
   "metadata": {},
   "source": [
    "### Note about function calls in Heiya\n",
    "For ease of use and future expandability, we use an integer to denote file format and codec. \n",
    "The convention is:\n",
    "* Normal image: 0 = JPG, 1 = TIF.\n",
    "* High Efficiency Image: 0 = AVIF, 1 = HEIF."
   ]
  },
  {
   "cell_type": "markdown",
   "id": "d0ac4fea",
   "metadata": {},
   "source": [
    "## Demo 1: Image to High Efficiency Image Converter\n",
    "\n",
    "* On macOS, use finder to navigate to the folder that contains the .tif or .jpg images, and hold `option` key (On a normal keyboard, the left `alt`).\n",
    "* You should be able to see your directory. Right click and select `Copy *YOUR FOLDER* as Pathname`.\n",
    "* Come back to this notebook, enter that direction into the `source_img` or `source_dir` (It is automatically pasted if you use pyperclip).\n",
    "* User should run the below cells each time they wish to convert files in a directory.\n"
   ]
  },
  {
   "cell_type": "code",
   "execution_count": null,
   "id": "a437724e",
   "metadata": {},
   "outputs": [],
   "source": [
    "# Demo 1.1 - Convert one single image to HEI\n",
    "\n",
    "source_img = \"\"\n",
    "\n",
    "# Get the image location directly from the clipboard\n",
    "if source_img == \"\":\n",
    "    source_img = clip.paste()\n",
    "    \n",
    "print(\"Starting operation in: \" + source_img)\n",
    "\n",
    "# Convert the image to AVIF\n",
    "heiya.to_hei.convert_image_to_hei(source_img, target_format=0)  # 0 = AVIF, 1 = HEIF"
   ]
  },
  {
   "cell_type": "code",
   "execution_count": null,
   "id": "f86fad3c",
   "metadata": {
    "scrolled": false
   },
   "outputs": [],
   "source": [
    "# Demo 1.2 - Batch convert all images in a directory to HEI\n",
    "\n",
    "source_dir = \"\"\n",
    "\n",
    "# For example, this will convert all the JPG in source_dir to AVIF, feel free to play around with the parameters.\n",
    "# source_format: 0 = JPG, 1 = TIF.\n",
    "# target_format: 0 = AVIF, 1 = HEIF.\n",
    "heiya.to_hei.convert_image_in_dir_to_hei(source_dir, source_format=0, target_format=0)"
   ]
  },
  {
   "cell_type": "code",
   "execution_count": null,
   "id": "62ab91c6",
   "metadata": {},
   "outputs": [],
   "source": [
    "# Demo 1.3.1 - Workspace Cleanup\n",
    "\n",
    "# You can use this function to delete all the files of a certain extension in a directory.\n",
    "\n",
    "\"\"\"\n",
    "# You can find these in heiya/extensions.py\n",
    "\n",
    "tif = (\".tif\", \".tiff\", \".TIF\", \".TIFF\")\n",
    "avif = (\".AVIF\", \".avif\", \".AV1F\", \".av1f\")\n",
    "heif = (\".heif\", \".heif\", \".HEIF\", \".heif\", \".HEIC\", \".heic\")\n",
    "jpg = (\".JPG\", \".JPEG\", \".jpeg\", \".jpg\")\n",
    "fpn = (\".FP3\", \".fp3\", \".FP2\", \".fp2\")\n",
    "\"\"\"\n",
    "\n",
    "source_dir = \"\"\n",
    "\n",
    "# Feel free to place some test files in a directory and change one of these params to True\n",
    "heiya.tools.delete_image_in_dir(source_dir, tif=False, jpg=False, heif=False, avif=False, fpn=False)"
   ]
  },
  {
   "cell_type": "code",
   "execution_count": null,
   "id": "14df1db5",
   "metadata": {},
   "outputs": [],
   "source": [
    "# Demo 1.3.2 - Delete files with a certain extension\n",
    "\n",
    "source_dir = \"\"\n",
    "\n",
    "# Alternatively, you can also use this function to delete all the files with a certain extension\n",
    "heiya.tools.delete_all_ext_in_dir(source_dir, \".SOME_EXT\")"
   ]
  },
  {
   "cell_type": "code",
   "execution_count": null,
   "id": "b1e3a75a",
   "metadata": {},
   "outputs": [],
   "source": [
    "# Demo 1.4 - Batch convert image to HEI using directory depth.\n",
    "\n",
    "\"\"\"\n",
    "Example: \n",
    "    Sample File Structure:\n",
    "\n",
    "    /Photos\n",
    "        /2021\n",
    "            /07\n",
    "        /2022\n",
    "            /08\n",
    "                /20220801\n",
    "                    /img811.jpg, image812.jpg...\n",
    "            /09\n",
    "                /20220901\n",
    "                    /img911.jpg, image912.jpg...\n",
    "                /20220902\n",
    "                    /img921.jpg, ...\n",
    "\n",
    "    Suppose source_dir=\"/Photos\":\n",
    "        depth = 0 -> [\"/Photos\"]\n",
    "        depth = 1 -> [\"/Photos/2021\", \"/Photos/2022\"]\n",
    "        depth = 2 -> [\"/Photos/2021/07\", \"/Photos/2022/08\", \"/Photos/2022/09\"]\n",
    "        depth = 3 -> [\"/Photos/2022/09/20220801\", \"/Photos/2022/10/20220901\", \"/Photos/2022/10/20220902\"]\n",
    "        \n",
    "    For the above example, depth should be set to 3 if source_dir=\"/Photos\".\n",
    "\"\"\"\n",
    "\n",
    "source_dir = \"\"\n",
    "\n",
    "# This value depends on your own file structure. depth = 0 looks in the current directory.\n",
    "depth = 0  \n",
    "\n",
    "# This will convert all the JPG in all the folders in the same depth from source_dir to AVIF.\n",
    "# Note this only effects folders in the same depth, if depth=3 then the program will not do any work in folders with depth 1 or 2.\n",
    "heiya.to_hei.convert_all_sub_folders_to_hei(source_dir, source_format=0, target_format=0, depth=depth) # source_format = JPG, target_format = AVIF."
   ]
  },
  {
   "cell_type": "markdown",
   "id": "9018d119",
   "metadata": {},
   "source": [
    "## Demo 2: High Efficiency Image (AVIF/HEIF) to JPG Converter"
   ]
  },
  {
   "cell_type": "code",
   "execution_count": null,
   "id": "68152f63",
   "metadata": {},
   "outputs": [],
   "source": [
    "# Demo 2.1 - Convert one single HEI to JPG\n",
    "\n",
    "source_img = \"\"\n",
    "\n",
    "# This converts one single AVIF into JPG.\n",
    "heiya.from_hei.convert_hei_to_image(source_img, target_format=0, fix_rotation=True)"
   ]
  },
  {
   "cell_type": "code",
   "execution_count": null,
   "id": "6afe1629",
   "metadata": {},
   "outputs": [],
   "source": [
    "# Demo 2.2 - Batch convert all HEI in a directory to JPG\n",
    "\n",
    "source_dir = \"\"\n",
    "\n",
    "# Similar to the above, this converts all .AVIF in directory to JPG\n",
    "heiya.from_hei.convert_hei_in_dir_to_image(source_dir, source_format=0, target_format=0, fix_rotation=True)"
   ]
  },
  {
   "cell_type": "markdown",
   "id": "fb3cee79",
   "metadata": {},
   "source": [
    "# Heiya Tools\n",
    "* These are not necessarily for processing HEI, mainly just little prgrams I write for image processing.\n",
    "\n",
    "## Demo 3: Convert normal Images\n",
    "* Not necessarily related to HEI, just a simple tool for me to encode one form of normal image to another (JPG, PNG, WEBP, etc)."
   ]
  },
  {
   "cell_type": "code",
   "execution_count": null,
   "id": "56fdd883",
   "metadata": {},
   "outputs": [],
   "source": [
    "# Demo 3.1 - JPG -> HEI -> JPG\n",
    "\n",
    "source_image = \"\"\n",
    "\n",
    "heiya.convert.normal_img_convertion(source_image, target_format=0, preserve_original_img=True)  # 0, 1, 2, 3 = JPG, TIF, PNG, WEBP"
   ]
  },
  {
   "cell_type": "markdown",
   "id": "5b7fb2a3",
   "metadata": {},
   "source": [
    "## Demo 4: Tag JPG Metadata using another JPG\n",
    "* This small tool helps to tag digitalized photographs taken using a film camera using another JPG image that has time and GPS data.\n",
    "* Usually, when I get scanned film from photo shops, they are in JPG and has no date/time or GPS info.\n",
    "* This tool can help fill in this information using another JPG picture (usually taken by a smartphone)."
   ]
  },
  {
   "cell_type": "code",
   "execution_count": 40,
   "id": "d45225e9",
   "metadata": {},
   "outputs": [],
   "source": [
    "# Custom file path override, usually just leave it blank if you use pyperclip\n",
    "target_image = \"\"\n",
    "\n",
    "# Get the image location directly from the clipboard\n",
    "if target_image == \"\":\n",
    "    target_image = clip.paste()\n",
    "\n",
    "# Fill in the source_image path of the image that you want to get GPS/Time information from.\n",
    "source_image = \"\"\n",
    "heiya.meta_transfer.img_meta_transfer(source_image, target_image, replace_original=False, postpend=\"_tagged\", lens_model=\"\")  # e.g. lens_model=\"Nikkor 50mm F1.4 AI\""
   ]
  },
  {
   "cell_type": "code",
   "execution_count": null,
   "id": "1ddac53a",
   "metadata": {},
   "outputs": [],
   "source": []
  }
 ],
 "metadata": {
  "kernelspec": {
   "display_name": "Python 3.8.13 64-bit ('anaconda3')",
   "language": "python",
   "name": "python3"
  },
  "language_info": {
   "codemirror_mode": {
    "name": "ipython",
    "version": 3
   },
   "file_extension": ".py",
   "mimetype": "text/x-python",
   "name": "python",
   "nbconvert_exporter": "python",
   "pygments_lexer": "ipython3",
   "version": "3.8.13"
  },
  "vscode": {
   "interpreter": {
    "hash": "ccfaef849455cb82dfcf38b07a416fc7e0fa5490bd7d0cd7d98b2a6b1749e9b9"
   }
  }
 },
 "nbformat": 4,
 "nbformat_minor": 5
}
